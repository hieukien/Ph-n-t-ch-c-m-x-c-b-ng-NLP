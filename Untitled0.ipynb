{
  "nbformat": 4,
  "nbformat_minor": 0,
  "metadata": {
    "colab": {
      "name": "Untitled0.ipynb",
      "provenance": [],
      "collapsed_sections": [],
      "mount_file_id": "1pGJoF7huHRtFkLvMr09XVNxwu8Hn7JwR",
      "authorship_tag": "ABX9TyOEQ9Ul6m1ZzXN7U6UFE347",
      "include_colab_link": true
    },
    "kernelspec": {
      "name": "python3",
      "display_name": "Python 3"
    },
    "language_info": {
      "name": "python"
    },
    "widgets": {
      "application/vnd.jupyter.widget-state+json": {
        "8225f382a49843f9ab1cb5380cff27da": {
          "model_module": "@jupyter-widgets/controls",
          "model_name": "HBoxModel",
          "state": {
            "_view_name": "HBoxView",
            "_dom_classes": [],
            "_model_name": "HBoxModel",
            "_view_module": "@jupyter-widgets/controls",
            "_model_module_version": "1.5.0",
            "_view_count": null,
            "_view_module_version": "1.5.0",
            "box_style": "",
            "layout": "IPY_MODEL_5f10e487ced0491ab0695e97fbdcbf1a",
            "_model_module": "@jupyter-widgets/controls",
            "children": [
              "IPY_MODEL_63ec975bb276406281c4007e3c0e2fb2",
              "IPY_MODEL_d168314c22da4b219f6d5a672574d480"
            ]
          }
        },
        "5f10e487ced0491ab0695e97fbdcbf1a": {
          "model_module": "@jupyter-widgets/base",
          "model_name": "LayoutModel",
          "state": {
            "_view_name": "LayoutView",
            "grid_template_rows": null,
            "right": null,
            "justify_content": null,
            "_view_module": "@jupyter-widgets/base",
            "overflow": null,
            "_model_module_version": "1.2.0",
            "_view_count": null,
            "flex_flow": null,
            "width": null,
            "min_width": null,
            "border": null,
            "align_items": null,
            "bottom": null,
            "_model_module": "@jupyter-widgets/base",
            "top": null,
            "grid_column": null,
            "overflow_y": null,
            "overflow_x": null,
            "grid_auto_flow": null,
            "grid_area": null,
            "grid_template_columns": null,
            "flex": null,
            "_model_name": "LayoutModel",
            "justify_items": null,
            "grid_row": null,
            "max_height": null,
            "align_content": null,
            "visibility": null,
            "align_self": null,
            "height": null,
            "min_height": null,
            "padding": null,
            "grid_auto_rows": null,
            "grid_gap": null,
            "max_width": null,
            "order": null,
            "_view_module_version": "1.2.0",
            "grid_template_areas": null,
            "object_position": null,
            "object_fit": null,
            "grid_auto_columns": null,
            "margin": null,
            "display": null,
            "left": null
          }
        },
        "63ec975bb276406281c4007e3c0e2fb2": {
          "model_module": "@jupyter-widgets/controls",
          "model_name": "FloatProgressModel",
          "state": {
            "_view_name": "ProgressView",
            "style": "IPY_MODEL_adea5a1f44244f6ea7b7cc2de5ed96ef",
            "_dom_classes": [],
            "description": "Dl Completed...: 100%",
            "_model_name": "FloatProgressModel",
            "bar_style": "success",
            "max": 1,
            "_view_module": "@jupyter-widgets/controls",
            "_model_module_version": "1.5.0",
            "value": 1,
            "_view_count": null,
            "_view_module_version": "1.5.0",
            "orientation": "horizontal",
            "min": 0,
            "description_tooltip": null,
            "_model_module": "@jupyter-widgets/controls",
            "layout": "IPY_MODEL_33cd301630dc4aef9c5d60daf3ba274c"
          }
        },
        "d168314c22da4b219f6d5a672574d480": {
          "model_module": "@jupyter-widgets/controls",
          "model_name": "HTMLModel",
          "state": {
            "_view_name": "HTMLView",
            "style": "IPY_MODEL_29b1fdbb95de42ed89ec68ab176dbbab",
            "_dom_classes": [],
            "description": "",
            "_model_name": "HTMLModel",
            "placeholder": "​",
            "_view_module": "@jupyter-widgets/controls",
            "_model_module_version": "1.5.0",
            "value": " 1/1 [00:01&lt;00:00,  1.73s/ url]",
            "_view_count": null,
            "_view_module_version": "1.5.0",
            "description_tooltip": null,
            "_model_module": "@jupyter-widgets/controls",
            "layout": "IPY_MODEL_70abcf699d57493c922aa01826f36302"
          }
        },
        "adea5a1f44244f6ea7b7cc2de5ed96ef": {
          "model_module": "@jupyter-widgets/controls",
          "model_name": "ProgressStyleModel",
          "state": {
            "_view_name": "StyleView",
            "_model_name": "ProgressStyleModel",
            "description_width": "initial",
            "_view_module": "@jupyter-widgets/base",
            "_model_module_version": "1.5.0",
            "_view_count": null,
            "_view_module_version": "1.2.0",
            "bar_color": null,
            "_model_module": "@jupyter-widgets/controls"
          }
        },
        "33cd301630dc4aef9c5d60daf3ba274c": {
          "model_module": "@jupyter-widgets/base",
          "model_name": "LayoutModel",
          "state": {
            "_view_name": "LayoutView",
            "grid_template_rows": null,
            "right": null,
            "justify_content": null,
            "_view_module": "@jupyter-widgets/base",
            "overflow": null,
            "_model_module_version": "1.2.0",
            "_view_count": null,
            "flex_flow": null,
            "width": null,
            "min_width": null,
            "border": null,
            "align_items": null,
            "bottom": null,
            "_model_module": "@jupyter-widgets/base",
            "top": null,
            "grid_column": null,
            "overflow_y": null,
            "overflow_x": null,
            "grid_auto_flow": null,
            "grid_area": null,
            "grid_template_columns": null,
            "flex": null,
            "_model_name": "LayoutModel",
            "justify_items": null,
            "grid_row": null,
            "max_height": null,
            "align_content": null,
            "visibility": null,
            "align_self": null,
            "height": null,
            "min_height": null,
            "padding": null,
            "grid_auto_rows": null,
            "grid_gap": null,
            "max_width": null,
            "order": null,
            "_view_module_version": "1.2.0",
            "grid_template_areas": null,
            "object_position": null,
            "object_fit": null,
            "grid_auto_columns": null,
            "margin": null,
            "display": null,
            "left": null
          }
        },
        "29b1fdbb95de42ed89ec68ab176dbbab": {
          "model_module": "@jupyter-widgets/controls",
          "model_name": "DescriptionStyleModel",
          "state": {
            "_view_name": "StyleView",
            "_model_name": "DescriptionStyleModel",
            "description_width": "",
            "_view_module": "@jupyter-widgets/base",
            "_model_module_version": "1.5.0",
            "_view_count": null,
            "_view_module_version": "1.2.0",
            "_model_module": "@jupyter-widgets/controls"
          }
        },
        "70abcf699d57493c922aa01826f36302": {
          "model_module": "@jupyter-widgets/base",
          "model_name": "LayoutModel",
          "state": {
            "_view_name": "LayoutView",
            "grid_template_rows": null,
            "right": null,
            "justify_content": null,
            "_view_module": "@jupyter-widgets/base",
            "overflow": null,
            "_model_module_version": "1.2.0",
            "_view_count": null,
            "flex_flow": null,
            "width": null,
            "min_width": null,
            "border": null,
            "align_items": null,
            "bottom": null,
            "_model_module": "@jupyter-widgets/base",
            "top": null,
            "grid_column": null,
            "overflow_y": null,
            "overflow_x": null,
            "grid_auto_flow": null,
            "grid_area": null,
            "grid_template_columns": null,
            "flex": null,
            "_model_name": "LayoutModel",
            "justify_items": null,
            "grid_row": null,
            "max_height": null,
            "align_content": null,
            "visibility": null,
            "align_self": null,
            "height": null,
            "min_height": null,
            "padding": null,
            "grid_auto_rows": null,
            "grid_gap": null,
            "max_width": null,
            "order": null,
            "_view_module_version": "1.2.0",
            "grid_template_areas": null,
            "object_position": null,
            "object_fit": null,
            "grid_auto_columns": null,
            "margin": null,
            "display": null,
            "left": null
          }
        },
        "cefbe152147f465f9c24ed0ab54f31ca": {
          "model_module": "@jupyter-widgets/controls",
          "model_name": "HBoxModel",
          "state": {
            "_view_name": "HBoxView",
            "_dom_classes": [],
            "_model_name": "HBoxModel",
            "_view_module": "@jupyter-widgets/controls",
            "_model_module_version": "1.5.0",
            "_view_count": null,
            "_view_module_version": "1.5.0",
            "box_style": "",
            "layout": "IPY_MODEL_b9306bcd4bac4facbffc154c4bf66ba0",
            "_model_module": "@jupyter-widgets/controls",
            "children": [
              "IPY_MODEL_8f4568443e644f43924489d0ee95d4d5",
              "IPY_MODEL_f7056762c4484b19b66f4cda407c5fb0"
            ]
          }
        },
        "b9306bcd4bac4facbffc154c4bf66ba0": {
          "model_module": "@jupyter-widgets/base",
          "model_name": "LayoutModel",
          "state": {
            "_view_name": "LayoutView",
            "grid_template_rows": null,
            "right": null,
            "justify_content": null,
            "_view_module": "@jupyter-widgets/base",
            "overflow": null,
            "_model_module_version": "1.2.0",
            "_view_count": null,
            "flex_flow": null,
            "width": null,
            "min_width": null,
            "border": null,
            "align_items": null,
            "bottom": null,
            "_model_module": "@jupyter-widgets/base",
            "top": null,
            "grid_column": null,
            "overflow_y": null,
            "overflow_x": null,
            "grid_auto_flow": null,
            "grid_area": null,
            "grid_template_columns": null,
            "flex": null,
            "_model_name": "LayoutModel",
            "justify_items": null,
            "grid_row": null,
            "max_height": null,
            "align_content": null,
            "visibility": null,
            "align_self": null,
            "height": null,
            "min_height": null,
            "padding": null,
            "grid_auto_rows": null,
            "grid_gap": null,
            "max_width": null,
            "order": null,
            "_view_module_version": "1.2.0",
            "grid_template_areas": null,
            "object_position": null,
            "object_fit": null,
            "grid_auto_columns": null,
            "margin": null,
            "display": null,
            "left": null
          }
        },
        "8f4568443e644f43924489d0ee95d4d5": {
          "model_module": "@jupyter-widgets/controls",
          "model_name": "FloatProgressModel",
          "state": {
            "_view_name": "ProgressView",
            "style": "IPY_MODEL_6aeffdd00150416fad3b587db96a9cf6",
            "_dom_classes": [],
            "description": "Dl Size...: 100%",
            "_model_name": "FloatProgressModel",
            "bar_style": "success",
            "max": 1,
            "_view_module": "@jupyter-widgets/controls",
            "_model_module_version": "1.5.0",
            "value": 1,
            "_view_count": null,
            "_view_module_version": "1.5.0",
            "orientation": "horizontal",
            "min": 0,
            "description_tooltip": null,
            "_model_module": "@jupyter-widgets/controls",
            "layout": "IPY_MODEL_803ef7e55f734f8c9575ab8a94c5be3f"
          }
        },
        "f7056762c4484b19b66f4cda407c5fb0": {
          "model_module": "@jupyter-widgets/controls",
          "model_name": "HTMLModel",
          "state": {
            "_view_name": "HTMLView",
            "style": "IPY_MODEL_a1f9e24f2a3b44d1a7192bfe9acf45c8",
            "_dom_classes": [],
            "description": "",
            "_model_name": "HTMLModel",
            "placeholder": "​",
            "_view_module": "@jupyter-widgets/controls",
            "_model_module_version": "1.5.0",
            "value": " 80/80 [00:01&lt;00:00, 47.61 MiB/s]",
            "_view_count": null,
            "_view_module_version": "1.5.0",
            "description_tooltip": null,
            "_model_module": "@jupyter-widgets/controls",
            "layout": "IPY_MODEL_a0c7471e27854c59bf3f766b3ce010be"
          }
        },
        "6aeffdd00150416fad3b587db96a9cf6": {
          "model_module": "@jupyter-widgets/controls",
          "model_name": "ProgressStyleModel",
          "state": {
            "_view_name": "StyleView",
            "_model_name": "ProgressStyleModel",
            "description_width": "initial",
            "_view_module": "@jupyter-widgets/base",
            "_model_module_version": "1.5.0",
            "_view_count": null,
            "_view_module_version": "1.2.0",
            "bar_color": null,
            "_model_module": "@jupyter-widgets/controls"
          }
        },
        "803ef7e55f734f8c9575ab8a94c5be3f": {
          "model_module": "@jupyter-widgets/base",
          "model_name": "LayoutModel",
          "state": {
            "_view_name": "LayoutView",
            "grid_template_rows": null,
            "right": null,
            "justify_content": null,
            "_view_module": "@jupyter-widgets/base",
            "overflow": null,
            "_model_module_version": "1.2.0",
            "_view_count": null,
            "flex_flow": null,
            "width": null,
            "min_width": null,
            "border": null,
            "align_items": null,
            "bottom": null,
            "_model_module": "@jupyter-widgets/base",
            "top": null,
            "grid_column": null,
            "overflow_y": null,
            "overflow_x": null,
            "grid_auto_flow": null,
            "grid_area": null,
            "grid_template_columns": null,
            "flex": null,
            "_model_name": "LayoutModel",
            "justify_items": null,
            "grid_row": null,
            "max_height": null,
            "align_content": null,
            "visibility": null,
            "align_self": null,
            "height": null,
            "min_height": null,
            "padding": null,
            "grid_auto_rows": null,
            "grid_gap": null,
            "max_width": null,
            "order": null,
            "_view_module_version": "1.2.0",
            "grid_template_areas": null,
            "object_position": null,
            "object_fit": null,
            "grid_auto_columns": null,
            "margin": null,
            "display": null,
            "left": null
          }
        },
        "a1f9e24f2a3b44d1a7192bfe9acf45c8": {
          "model_module": "@jupyter-widgets/controls",
          "model_name": "DescriptionStyleModel",
          "state": {
            "_view_name": "StyleView",
            "_model_name": "DescriptionStyleModel",
            "description_width": "",
            "_view_module": "@jupyter-widgets/base",
            "_model_module_version": "1.5.0",
            "_view_count": null,
            "_view_module_version": "1.2.0",
            "_model_module": "@jupyter-widgets/controls"
          }
        },
        "a0c7471e27854c59bf3f766b3ce010be": {
          "model_module": "@jupyter-widgets/base",
          "model_name": "LayoutModel",
          "state": {
            "_view_name": "LayoutView",
            "grid_template_rows": null,
            "right": null,
            "justify_content": null,
            "_view_module": "@jupyter-widgets/base",
            "overflow": null,
            "_model_module_version": "1.2.0",
            "_view_count": null,
            "flex_flow": null,
            "width": null,
            "min_width": null,
            "border": null,
            "align_items": null,
            "bottom": null,
            "_model_module": "@jupyter-widgets/base",
            "top": null,
            "grid_column": null,
            "overflow_y": null,
            "overflow_x": null,
            "grid_auto_flow": null,
            "grid_area": null,
            "grid_template_columns": null,
            "flex": null,
            "_model_name": "LayoutModel",
            "justify_items": null,
            "grid_row": null,
            "max_height": null,
            "align_content": null,
            "visibility": null,
            "align_self": null,
            "height": null,
            "min_height": null,
            "padding": null,
            "grid_auto_rows": null,
            "grid_gap": null,
            "max_width": null,
            "order": null,
            "_view_module_version": "1.2.0",
            "grid_template_areas": null,
            "object_position": null,
            "object_fit": null,
            "grid_auto_columns": null,
            "margin": null,
            "display": null,
            "left": null
          }
        },
        "312fa18fcbc74b1db6bb2189bfbfc5ff": {
          "model_module": "@jupyter-widgets/controls",
          "model_name": "HBoxModel",
          "state": {
            "_view_name": "HBoxView",
            "_dom_classes": [],
            "_model_name": "HBoxModel",
            "_view_module": "@jupyter-widgets/controls",
            "_model_module_version": "1.5.0",
            "_view_count": null,
            "_view_module_version": "1.5.0",
            "box_style": "",
            "layout": "IPY_MODEL_4c6af9f76d96436bb593083aa2ec990d",
            "_model_module": "@jupyter-widgets/controls",
            "children": [
              "IPY_MODEL_129109e43fac4872b0c0dee61cb3ef8c",
              "IPY_MODEL_43da5bd282d448d4ba8916338621fdcc"
            ]
          }
        },
        "4c6af9f76d96436bb593083aa2ec990d": {
          "model_module": "@jupyter-widgets/base",
          "model_name": "LayoutModel",
          "state": {
            "_view_name": "LayoutView",
            "grid_template_rows": null,
            "right": null,
            "justify_content": null,
            "_view_module": "@jupyter-widgets/base",
            "overflow": null,
            "_model_module_version": "1.2.0",
            "_view_count": null,
            "flex_flow": null,
            "width": null,
            "min_width": null,
            "border": null,
            "align_items": null,
            "bottom": null,
            "_model_module": "@jupyter-widgets/base",
            "top": null,
            "grid_column": null,
            "overflow_y": null,
            "overflow_x": null,
            "grid_auto_flow": null,
            "grid_area": null,
            "grid_template_columns": null,
            "flex": null,
            "_model_name": "LayoutModel",
            "justify_items": null,
            "grid_row": null,
            "max_height": null,
            "align_content": null,
            "visibility": null,
            "align_self": null,
            "height": null,
            "min_height": null,
            "padding": null,
            "grid_auto_rows": null,
            "grid_gap": null,
            "max_width": null,
            "order": null,
            "_view_module_version": "1.2.0",
            "grid_template_areas": null,
            "object_position": null,
            "object_fit": null,
            "grid_auto_columns": null,
            "margin": null,
            "display": null,
            "left": null
          }
        },
        "129109e43fac4872b0c0dee61cb3ef8c": {
          "model_module": "@jupyter-widgets/controls",
          "model_name": "FloatProgressModel",
          "state": {
            "_view_name": "ProgressView",
            "style": "IPY_MODEL_530bb3a766e44e5aab8d57f3d47b756d",
            "_dom_classes": [],
            "description": "",
            "_model_name": "FloatProgressModel",
            "bar_style": "info",
            "max": 1,
            "_view_module": "@jupyter-widgets/controls",
            "_model_module_version": "1.5.0",
            "value": 1,
            "_view_count": null,
            "_view_module_version": "1.5.0",
            "orientation": "horizontal",
            "min": 0,
            "description_tooltip": null,
            "_model_module": "@jupyter-widgets/controls",
            "layout": "IPY_MODEL_791193d0d4524eccb820c47cfccda316"
          }
        },
        "43da5bd282d448d4ba8916338621fdcc": {
          "model_module": "@jupyter-widgets/controls",
          "model_name": "HTMLModel",
          "state": {
            "_view_name": "HTMLView",
            "style": "IPY_MODEL_c36aec05abcb4cc1a27d5dfc40410507",
            "_dom_classes": [],
            "description": "",
            "_model_name": "HTMLModel",
            "placeholder": "​",
            "_view_module": "@jupyter-widgets/controls",
            "_model_module_version": "1.5.0",
            "value": " 25000/0 [00:12&lt;00:00, 3568.81 examples/s]",
            "_view_count": null,
            "_view_module_version": "1.5.0",
            "description_tooltip": null,
            "_model_module": "@jupyter-widgets/controls",
            "layout": "IPY_MODEL_d7e7af383a7048f08e89bbdb56a8a558"
          }
        },
        "530bb3a766e44e5aab8d57f3d47b756d": {
          "model_module": "@jupyter-widgets/controls",
          "model_name": "ProgressStyleModel",
          "state": {
            "_view_name": "StyleView",
            "_model_name": "ProgressStyleModel",
            "description_width": "initial",
            "_view_module": "@jupyter-widgets/base",
            "_model_module_version": "1.5.0",
            "_view_count": null,
            "_view_module_version": "1.2.0",
            "bar_color": null,
            "_model_module": "@jupyter-widgets/controls"
          }
        },
        "791193d0d4524eccb820c47cfccda316": {
          "model_module": "@jupyter-widgets/base",
          "model_name": "LayoutModel",
          "state": {
            "_view_name": "LayoutView",
            "grid_template_rows": null,
            "right": null,
            "justify_content": null,
            "_view_module": "@jupyter-widgets/base",
            "overflow": null,
            "_model_module_version": "1.2.0",
            "_view_count": null,
            "flex_flow": null,
            "width": null,
            "min_width": null,
            "border": null,
            "align_items": null,
            "bottom": null,
            "_model_module": "@jupyter-widgets/base",
            "top": null,
            "grid_column": null,
            "overflow_y": null,
            "overflow_x": null,
            "grid_auto_flow": null,
            "grid_area": null,
            "grid_template_columns": null,
            "flex": null,
            "_model_name": "LayoutModel",
            "justify_items": null,
            "grid_row": null,
            "max_height": null,
            "align_content": null,
            "visibility": null,
            "align_self": null,
            "height": null,
            "min_height": null,
            "padding": null,
            "grid_auto_rows": null,
            "grid_gap": null,
            "max_width": null,
            "order": null,
            "_view_module_version": "1.2.0",
            "grid_template_areas": null,
            "object_position": null,
            "object_fit": null,
            "grid_auto_columns": null,
            "margin": null,
            "display": null,
            "left": null
          }
        },
        "c36aec05abcb4cc1a27d5dfc40410507": {
          "model_module": "@jupyter-widgets/controls",
          "model_name": "DescriptionStyleModel",
          "state": {
            "_view_name": "StyleView",
            "_model_name": "DescriptionStyleModel",
            "description_width": "",
            "_view_module": "@jupyter-widgets/base",
            "_model_module_version": "1.5.0",
            "_view_count": null,
            "_view_module_version": "1.2.0",
            "_model_module": "@jupyter-widgets/controls"
          }
        },
        "d7e7af383a7048f08e89bbdb56a8a558": {
          "model_module": "@jupyter-widgets/base",
          "model_name": "LayoutModel",
          "state": {
            "_view_name": "LayoutView",
            "grid_template_rows": null,
            "right": null,
            "justify_content": null,
            "_view_module": "@jupyter-widgets/base",
            "overflow": null,
            "_model_module_version": "1.2.0",
            "_view_count": null,
            "flex_flow": null,
            "width": null,
            "min_width": null,
            "border": null,
            "align_items": null,
            "bottom": null,
            "_model_module": "@jupyter-widgets/base",
            "top": null,
            "grid_column": null,
            "overflow_y": null,
            "overflow_x": null,
            "grid_auto_flow": null,
            "grid_area": null,
            "grid_template_columns": null,
            "flex": null,
            "_model_name": "LayoutModel",
            "justify_items": null,
            "grid_row": null,
            "max_height": null,
            "align_content": null,
            "visibility": null,
            "align_self": null,
            "height": null,
            "min_height": null,
            "padding": null,
            "grid_auto_rows": null,
            "grid_gap": null,
            "max_width": null,
            "order": null,
            "_view_module_version": "1.2.0",
            "grid_template_areas": null,
            "object_position": null,
            "object_fit": null,
            "grid_auto_columns": null,
            "margin": null,
            "display": null,
            "left": null
          }
        },
        "f2116c41a51f4480b824ce9a1ca88912": {
          "model_module": "@jupyter-widgets/controls",
          "model_name": "HBoxModel",
          "state": {
            "_view_name": "HBoxView",
            "_dom_classes": [],
            "_model_name": "HBoxModel",
            "_view_module": "@jupyter-widgets/controls",
            "_model_module_version": "1.5.0",
            "_view_count": null,
            "_view_module_version": "1.5.0",
            "box_style": "",
            "layout": "IPY_MODEL_718bee8f18104e3eae061ec155f76f82",
            "_model_module": "@jupyter-widgets/controls",
            "children": [
              "IPY_MODEL_1befe02fd4ff4058b97906ca606668ea",
              "IPY_MODEL_59b5f39f1bdb469ca3cf2325a1803bc1"
            ]
          }
        },
        "718bee8f18104e3eae061ec155f76f82": {
          "model_module": "@jupyter-widgets/base",
          "model_name": "LayoutModel",
          "state": {
            "_view_name": "LayoutView",
            "grid_template_rows": null,
            "right": null,
            "justify_content": null,
            "_view_module": "@jupyter-widgets/base",
            "overflow": null,
            "_model_module_version": "1.2.0",
            "_view_count": null,
            "flex_flow": null,
            "width": null,
            "min_width": null,
            "border": null,
            "align_items": null,
            "bottom": null,
            "_model_module": "@jupyter-widgets/base",
            "top": null,
            "grid_column": null,
            "overflow_y": null,
            "overflow_x": null,
            "grid_auto_flow": null,
            "grid_area": null,
            "grid_template_columns": null,
            "flex": null,
            "_model_name": "LayoutModel",
            "justify_items": null,
            "grid_row": null,
            "max_height": null,
            "align_content": null,
            "visibility": null,
            "align_self": null,
            "height": null,
            "min_height": null,
            "padding": null,
            "grid_auto_rows": null,
            "grid_gap": null,
            "max_width": null,
            "order": null,
            "_view_module_version": "1.2.0",
            "grid_template_areas": null,
            "object_position": null,
            "object_fit": null,
            "grid_auto_columns": null,
            "margin": null,
            "display": null,
            "left": null
          }
        },
        "1befe02fd4ff4058b97906ca606668ea": {
          "model_module": "@jupyter-widgets/controls",
          "model_name": "FloatProgressModel",
          "state": {
            "_view_name": "ProgressView",
            "style": "IPY_MODEL_d954e56a411648a5bd081fa0d5d63881",
            "_dom_classes": [],
            "description": " 53%",
            "_model_name": "FloatProgressModel",
            "bar_style": "danger",
            "max": 25000,
            "_view_module": "@jupyter-widgets/controls",
            "_model_module_version": "1.5.0",
            "value": 13302,
            "_view_count": null,
            "_view_module_version": "1.5.0",
            "orientation": "horizontal",
            "min": 0,
            "description_tooltip": null,
            "_model_module": "@jupyter-widgets/controls",
            "layout": "IPY_MODEL_bb767e9e3c7c4c61929a2215fb0606a2"
          }
        },
        "59b5f39f1bdb469ca3cf2325a1803bc1": {
          "model_module": "@jupyter-widgets/controls",
          "model_name": "HTMLModel",
          "state": {
            "_view_name": "HTMLView",
            "style": "IPY_MODEL_f55d861debdc43e2ad973ad2621e8838",
            "_dom_classes": [],
            "description": "",
            "_model_name": "HTMLModel",
            "placeholder": "​",
            "_view_module": "@jupyter-widgets/controls",
            "_model_module_version": "1.5.0",
            "value": " 13302/25000 [00:00&lt;00:00, 133018.86 examples/s]",
            "_view_count": null,
            "_view_module_version": "1.5.0",
            "description_tooltip": null,
            "_model_module": "@jupyter-widgets/controls",
            "layout": "IPY_MODEL_59c0e71e23254874b3a8fae0b162817a"
          }
        },
        "d954e56a411648a5bd081fa0d5d63881": {
          "model_module": "@jupyter-widgets/controls",
          "model_name": "ProgressStyleModel",
          "state": {
            "_view_name": "StyleView",
            "_model_name": "ProgressStyleModel",
            "description_width": "initial",
            "_view_module": "@jupyter-widgets/base",
            "_model_module_version": "1.5.0",
            "_view_count": null,
            "_view_module_version": "1.2.0",
            "bar_color": null,
            "_model_module": "@jupyter-widgets/controls"
          }
        },
        "bb767e9e3c7c4c61929a2215fb0606a2": {
          "model_module": "@jupyter-widgets/base",
          "model_name": "LayoutModel",
          "state": {
            "_view_name": "LayoutView",
            "grid_template_rows": null,
            "right": null,
            "justify_content": null,
            "_view_module": "@jupyter-widgets/base",
            "overflow": null,
            "_model_module_version": "1.2.0",
            "_view_count": null,
            "flex_flow": null,
            "width": null,
            "min_width": null,
            "border": null,
            "align_items": null,
            "bottom": null,
            "_model_module": "@jupyter-widgets/base",
            "top": null,
            "grid_column": null,
            "overflow_y": null,
            "overflow_x": null,
            "grid_auto_flow": null,
            "grid_area": null,
            "grid_template_columns": null,
            "flex": null,
            "_model_name": "LayoutModel",
            "justify_items": null,
            "grid_row": null,
            "max_height": null,
            "align_content": null,
            "visibility": null,
            "align_self": null,
            "height": null,
            "min_height": null,
            "padding": null,
            "grid_auto_rows": null,
            "grid_gap": null,
            "max_width": null,
            "order": null,
            "_view_module_version": "1.2.0",
            "grid_template_areas": null,
            "object_position": null,
            "object_fit": null,
            "grid_auto_columns": null,
            "margin": null,
            "display": null,
            "left": null
          }
        },
        "f55d861debdc43e2ad973ad2621e8838": {
          "model_module": "@jupyter-widgets/controls",
          "model_name": "DescriptionStyleModel",
          "state": {
            "_view_name": "StyleView",
            "_model_name": "DescriptionStyleModel",
            "description_width": "",
            "_view_module": "@jupyter-widgets/base",
            "_model_module_version": "1.5.0",
            "_view_count": null,
            "_view_module_version": "1.2.0",
            "_model_module": "@jupyter-widgets/controls"
          }
        },
        "59c0e71e23254874b3a8fae0b162817a": {
          "model_module": "@jupyter-widgets/base",
          "model_name": "LayoutModel",
          "state": {
            "_view_name": "LayoutView",
            "grid_template_rows": null,
            "right": null,
            "justify_content": null,
            "_view_module": "@jupyter-widgets/base",
            "overflow": null,
            "_model_module_version": "1.2.0",
            "_view_count": null,
            "flex_flow": null,
            "width": null,
            "min_width": null,
            "border": null,
            "align_items": null,
            "bottom": null,
            "_model_module": "@jupyter-widgets/base",
            "top": null,
            "grid_column": null,
            "overflow_y": null,
            "overflow_x": null,
            "grid_auto_flow": null,
            "grid_area": null,
            "grid_template_columns": null,
            "flex": null,
            "_model_name": "LayoutModel",
            "justify_items": null,
            "grid_row": null,
            "max_height": null,
            "align_content": null,
            "visibility": null,
            "align_self": null,
            "height": null,
            "min_height": null,
            "padding": null,
            "grid_auto_rows": null,
            "grid_gap": null,
            "max_width": null,
            "order": null,
            "_view_module_version": "1.2.0",
            "grid_template_areas": null,
            "object_position": null,
            "object_fit": null,
            "grid_auto_columns": null,
            "margin": null,
            "display": null,
            "left": null
          }
        },
        "512af354f5174894986c9dfe1c4b639a": {
          "model_module": "@jupyter-widgets/controls",
          "model_name": "HBoxModel",
          "state": {
            "_view_name": "HBoxView",
            "_dom_classes": [],
            "_model_name": "HBoxModel",
            "_view_module": "@jupyter-widgets/controls",
            "_model_module_version": "1.5.0",
            "_view_count": null,
            "_view_module_version": "1.5.0",
            "box_style": "",
            "layout": "IPY_MODEL_f4a3e038adc64cccadb0b95ca7841154",
            "_model_module": "@jupyter-widgets/controls",
            "children": [
              "IPY_MODEL_24f54d31b3744977839a348a6ff49c96",
              "IPY_MODEL_398333e848124e5c9383152772640642"
            ]
          }
        },
        "f4a3e038adc64cccadb0b95ca7841154": {
          "model_module": "@jupyter-widgets/base",
          "model_name": "LayoutModel",
          "state": {
            "_view_name": "LayoutView",
            "grid_template_rows": null,
            "right": null,
            "justify_content": null,
            "_view_module": "@jupyter-widgets/base",
            "overflow": null,
            "_model_module_version": "1.2.0",
            "_view_count": null,
            "flex_flow": null,
            "width": null,
            "min_width": null,
            "border": null,
            "align_items": null,
            "bottom": null,
            "_model_module": "@jupyter-widgets/base",
            "top": null,
            "grid_column": null,
            "overflow_y": null,
            "overflow_x": null,
            "grid_auto_flow": null,
            "grid_area": null,
            "grid_template_columns": null,
            "flex": null,
            "_model_name": "LayoutModel",
            "justify_items": null,
            "grid_row": null,
            "max_height": null,
            "align_content": null,
            "visibility": null,
            "align_self": null,
            "height": null,
            "min_height": null,
            "padding": null,
            "grid_auto_rows": null,
            "grid_gap": null,
            "max_width": null,
            "order": null,
            "_view_module_version": "1.2.0",
            "grid_template_areas": null,
            "object_position": null,
            "object_fit": null,
            "grid_auto_columns": null,
            "margin": null,
            "display": null,
            "left": null
          }
        },
        "24f54d31b3744977839a348a6ff49c96": {
          "model_module": "@jupyter-widgets/controls",
          "model_name": "FloatProgressModel",
          "state": {
            "_view_name": "ProgressView",
            "style": "IPY_MODEL_d58f1e0ca2664d81b8885742f734d130",
            "_dom_classes": [],
            "description": "",
            "_model_name": "FloatProgressModel",
            "bar_style": "info",
            "max": 1,
            "_view_module": "@jupyter-widgets/controls",
            "_model_module_version": "1.5.0",
            "value": 1,
            "_view_count": null,
            "_view_module_version": "1.5.0",
            "orientation": "horizontal",
            "min": 0,
            "description_tooltip": null,
            "_model_module": "@jupyter-widgets/controls",
            "layout": "IPY_MODEL_fd7f10c9348440579322afd4c1cddfec"
          }
        },
        "398333e848124e5c9383152772640642": {
          "model_module": "@jupyter-widgets/controls",
          "model_name": "HTMLModel",
          "state": {
            "_view_name": "HTMLView",
            "style": "IPY_MODEL_b9711892593e4cf2b2325d979bbafee9",
            "_dom_classes": [],
            "description": "",
            "_model_name": "HTMLModel",
            "placeholder": "​",
            "_view_module": "@jupyter-widgets/controls",
            "_model_module_version": "1.5.0",
            "value": " 25000/0 [00:12&lt;00:00, 3887.94 examples/s]",
            "_view_count": null,
            "_view_module_version": "1.5.0",
            "description_tooltip": null,
            "_model_module": "@jupyter-widgets/controls",
            "layout": "IPY_MODEL_9fd5bcb25a0f41e6a3af054a556e3b2f"
          }
        },
        "d58f1e0ca2664d81b8885742f734d130": {
          "model_module": "@jupyter-widgets/controls",
          "model_name": "ProgressStyleModel",
          "state": {
            "_view_name": "StyleView",
            "_model_name": "ProgressStyleModel",
            "description_width": "initial",
            "_view_module": "@jupyter-widgets/base",
            "_model_module_version": "1.5.0",
            "_view_count": null,
            "_view_module_version": "1.2.0",
            "bar_color": null,
            "_model_module": "@jupyter-widgets/controls"
          }
        },
        "fd7f10c9348440579322afd4c1cddfec": {
          "model_module": "@jupyter-widgets/base",
          "model_name": "LayoutModel",
          "state": {
            "_view_name": "LayoutView",
            "grid_template_rows": null,
            "right": null,
            "justify_content": null,
            "_view_module": "@jupyter-widgets/base",
            "overflow": null,
            "_model_module_version": "1.2.0",
            "_view_count": null,
            "flex_flow": null,
            "width": null,
            "min_width": null,
            "border": null,
            "align_items": null,
            "bottom": null,
            "_model_module": "@jupyter-widgets/base",
            "top": null,
            "grid_column": null,
            "overflow_y": null,
            "overflow_x": null,
            "grid_auto_flow": null,
            "grid_area": null,
            "grid_template_columns": null,
            "flex": null,
            "_model_name": "LayoutModel",
            "justify_items": null,
            "grid_row": null,
            "max_height": null,
            "align_content": null,
            "visibility": null,
            "align_self": null,
            "height": null,
            "min_height": null,
            "padding": null,
            "grid_auto_rows": null,
            "grid_gap": null,
            "max_width": null,
            "order": null,
            "_view_module_version": "1.2.0",
            "grid_template_areas": null,
            "object_position": null,
            "object_fit": null,
            "grid_auto_columns": null,
            "margin": null,
            "display": null,
            "left": null
          }
        },
        "b9711892593e4cf2b2325d979bbafee9": {
          "model_module": "@jupyter-widgets/controls",
          "model_name": "DescriptionStyleModel",
          "state": {
            "_view_name": "StyleView",
            "_model_name": "DescriptionStyleModel",
            "description_width": "",
            "_view_module": "@jupyter-widgets/base",
            "_model_module_version": "1.5.0",
            "_view_count": null,
            "_view_module_version": "1.2.0",
            "_model_module": "@jupyter-widgets/controls"
          }
        },
        "9fd5bcb25a0f41e6a3af054a556e3b2f": {
          "model_module": "@jupyter-widgets/base",
          "model_name": "LayoutModel",
          "state": {
            "_view_name": "LayoutView",
            "grid_template_rows": null,
            "right": null,
            "justify_content": null,
            "_view_module": "@jupyter-widgets/base",
            "overflow": null,
            "_model_module_version": "1.2.0",
            "_view_count": null,
            "flex_flow": null,
            "width": null,
            "min_width": null,
            "border": null,
            "align_items": null,
            "bottom": null,
            "_model_module": "@jupyter-widgets/base",
            "top": null,
            "grid_column": null,
            "overflow_y": null,
            "overflow_x": null,
            "grid_auto_flow": null,
            "grid_area": null,
            "grid_template_columns": null,
            "flex": null,
            "_model_name": "LayoutModel",
            "justify_items": null,
            "grid_row": null,
            "max_height": null,
            "align_content": null,
            "visibility": null,
            "align_self": null,
            "height": null,
            "min_height": null,
            "padding": null,
            "grid_auto_rows": null,
            "grid_gap": null,
            "max_width": null,
            "order": null,
            "_view_module_version": "1.2.0",
            "grid_template_areas": null,
            "object_position": null,
            "object_fit": null,
            "grid_auto_columns": null,
            "margin": null,
            "display": null,
            "left": null
          }
        },
        "5c7153f42913483d956c3353a05270bd": {
          "model_module": "@jupyter-widgets/controls",
          "model_name": "HBoxModel",
          "state": {
            "_view_name": "HBoxView",
            "_dom_classes": [],
            "_model_name": "HBoxModel",
            "_view_module": "@jupyter-widgets/controls",
            "_model_module_version": "1.5.0",
            "_view_count": null,
            "_view_module_version": "1.5.0",
            "box_style": "",
            "layout": "IPY_MODEL_1615470f407a43d48b4947a1e99ea0bf",
            "_model_module": "@jupyter-widgets/controls",
            "children": [
              "IPY_MODEL_54ffde54544440f2bb13b1a7a1d31cbc",
              "IPY_MODEL_cd483f4e7ea343f2af54816e0a23c340"
            ]
          }
        },
        "1615470f407a43d48b4947a1e99ea0bf": {
          "model_module": "@jupyter-widgets/base",
          "model_name": "LayoutModel",
          "state": {
            "_view_name": "LayoutView",
            "grid_template_rows": null,
            "right": null,
            "justify_content": null,
            "_view_module": "@jupyter-widgets/base",
            "overflow": null,
            "_model_module_version": "1.2.0",
            "_view_count": null,
            "flex_flow": null,
            "width": null,
            "min_width": null,
            "border": null,
            "align_items": null,
            "bottom": null,
            "_model_module": "@jupyter-widgets/base",
            "top": null,
            "grid_column": null,
            "overflow_y": null,
            "overflow_x": null,
            "grid_auto_flow": null,
            "grid_area": null,
            "grid_template_columns": null,
            "flex": null,
            "_model_name": "LayoutModel",
            "justify_items": null,
            "grid_row": null,
            "max_height": null,
            "align_content": null,
            "visibility": null,
            "align_self": null,
            "height": null,
            "min_height": null,
            "padding": null,
            "grid_auto_rows": null,
            "grid_gap": null,
            "max_width": null,
            "order": null,
            "_view_module_version": "1.2.0",
            "grid_template_areas": null,
            "object_position": null,
            "object_fit": null,
            "grid_auto_columns": null,
            "margin": null,
            "display": null,
            "left": null
          }
        },
        "54ffde54544440f2bb13b1a7a1d31cbc": {
          "model_module": "@jupyter-widgets/controls",
          "model_name": "FloatProgressModel",
          "state": {
            "_view_name": "ProgressView",
            "style": "IPY_MODEL_00ad5cb4fa784ffe91b4b450b7905eab",
            "_dom_classes": [],
            "description": " 51%",
            "_model_name": "FloatProgressModel",
            "bar_style": "danger",
            "max": 25000,
            "_view_module": "@jupyter-widgets/controls",
            "_model_module_version": "1.5.0",
            "value": 12778,
            "_view_count": null,
            "_view_module_version": "1.5.0",
            "orientation": "horizontal",
            "min": 0,
            "description_tooltip": null,
            "_model_module": "@jupyter-widgets/controls",
            "layout": "IPY_MODEL_09ae86e7486e4614987aaa1dda0e9357"
          }
        },
        "cd483f4e7ea343f2af54816e0a23c340": {
          "model_module": "@jupyter-widgets/controls",
          "model_name": "HTMLModel",
          "state": {
            "_view_name": "HTMLView",
            "style": "IPY_MODEL_206e8bf87cc94691978d5767a54ed129",
            "_dom_classes": [],
            "description": "",
            "_model_name": "HTMLModel",
            "placeholder": "​",
            "_view_module": "@jupyter-widgets/controls",
            "_model_module_version": "1.5.0",
            "value": " 12778/25000 [00:00&lt;00:00, 127779.51 examples/s]",
            "_view_count": null,
            "_view_module_version": "1.5.0",
            "description_tooltip": null,
            "_model_module": "@jupyter-widgets/controls",
            "layout": "IPY_MODEL_bfc3743bf51b4094a6eede2e613bb82c"
          }
        },
        "00ad5cb4fa784ffe91b4b450b7905eab": {
          "model_module": "@jupyter-widgets/controls",
          "model_name": "ProgressStyleModel",
          "state": {
            "_view_name": "StyleView",
            "_model_name": "ProgressStyleModel",
            "description_width": "initial",
            "_view_module": "@jupyter-widgets/base",
            "_model_module_version": "1.5.0",
            "_view_count": null,
            "_view_module_version": "1.2.0",
            "bar_color": null,
            "_model_module": "@jupyter-widgets/controls"
          }
        },
        "09ae86e7486e4614987aaa1dda0e9357": {
          "model_module": "@jupyter-widgets/base",
          "model_name": "LayoutModel",
          "state": {
            "_view_name": "LayoutView",
            "grid_template_rows": null,
            "right": null,
            "justify_content": null,
            "_view_module": "@jupyter-widgets/base",
            "overflow": null,
            "_model_module_version": "1.2.0",
            "_view_count": null,
            "flex_flow": null,
            "width": null,
            "min_width": null,
            "border": null,
            "align_items": null,
            "bottom": null,
            "_model_module": "@jupyter-widgets/base",
            "top": null,
            "grid_column": null,
            "overflow_y": null,
            "overflow_x": null,
            "grid_auto_flow": null,
            "grid_area": null,
            "grid_template_columns": null,
            "flex": null,
            "_model_name": "LayoutModel",
            "justify_items": null,
            "grid_row": null,
            "max_height": null,
            "align_content": null,
            "visibility": null,
            "align_self": null,
            "height": null,
            "min_height": null,
            "padding": null,
            "grid_auto_rows": null,
            "grid_gap": null,
            "max_width": null,
            "order": null,
            "_view_module_version": "1.2.0",
            "grid_template_areas": null,
            "object_position": null,
            "object_fit": null,
            "grid_auto_columns": null,
            "margin": null,
            "display": null,
            "left": null
          }
        },
        "206e8bf87cc94691978d5767a54ed129": {
          "model_module": "@jupyter-widgets/controls",
          "model_name": "DescriptionStyleModel",
          "state": {
            "_view_name": "StyleView",
            "_model_name": "DescriptionStyleModel",
            "description_width": "",
            "_view_module": "@jupyter-widgets/base",
            "_model_module_version": "1.5.0",
            "_view_count": null,
            "_view_module_version": "1.2.0",
            "_model_module": "@jupyter-widgets/controls"
          }
        },
        "bfc3743bf51b4094a6eede2e613bb82c": {
          "model_module": "@jupyter-widgets/base",
          "model_name": "LayoutModel",
          "state": {
            "_view_name": "LayoutView",
            "grid_template_rows": null,
            "right": null,
            "justify_content": null,
            "_view_module": "@jupyter-widgets/base",
            "overflow": null,
            "_model_module_version": "1.2.0",
            "_view_count": null,
            "flex_flow": null,
            "width": null,
            "min_width": null,
            "border": null,
            "align_items": null,
            "bottom": null,
            "_model_module": "@jupyter-widgets/base",
            "top": null,
            "grid_column": null,
            "overflow_y": null,
            "overflow_x": null,
            "grid_auto_flow": null,
            "grid_area": null,
            "grid_template_columns": null,
            "flex": null,
            "_model_name": "LayoutModel",
            "justify_items": null,
            "grid_row": null,
            "max_height": null,
            "align_content": null,
            "visibility": null,
            "align_self": null,
            "height": null,
            "min_height": null,
            "padding": null,
            "grid_auto_rows": null,
            "grid_gap": null,
            "max_width": null,
            "order": null,
            "_view_module_version": "1.2.0",
            "grid_template_areas": null,
            "object_position": null,
            "object_fit": null,
            "grid_auto_columns": null,
            "margin": null,
            "display": null,
            "left": null
          }
        },
        "b7edeb60759146c5aee274f10a01525f": {
          "model_module": "@jupyter-widgets/controls",
          "model_name": "HBoxModel",
          "state": {
            "_view_name": "HBoxView",
            "_dom_classes": [],
            "_model_name": "HBoxModel",
            "_view_module": "@jupyter-widgets/controls",
            "_model_module_version": "1.5.0",
            "_view_count": null,
            "_view_module_version": "1.5.0",
            "box_style": "",
            "layout": "IPY_MODEL_1ef358b72d2c4d278041fabe08190d2a",
            "_model_module": "@jupyter-widgets/controls",
            "children": [
              "IPY_MODEL_c5eaca027c5644c5a315e4b486ca9769",
              "IPY_MODEL_cd7c6d609c174d9baa94389d2566373b"
            ]
          }
        },
        "1ef358b72d2c4d278041fabe08190d2a": {
          "model_module": "@jupyter-widgets/base",
          "model_name": "LayoutModel",
          "state": {
            "_view_name": "LayoutView",
            "grid_template_rows": null,
            "right": null,
            "justify_content": null,
            "_view_module": "@jupyter-widgets/base",
            "overflow": null,
            "_model_module_version": "1.2.0",
            "_view_count": null,
            "flex_flow": null,
            "width": null,
            "min_width": null,
            "border": null,
            "align_items": null,
            "bottom": null,
            "_model_module": "@jupyter-widgets/base",
            "top": null,
            "grid_column": null,
            "overflow_y": null,
            "overflow_x": null,
            "grid_auto_flow": null,
            "grid_area": null,
            "grid_template_columns": null,
            "flex": null,
            "_model_name": "LayoutModel",
            "justify_items": null,
            "grid_row": null,
            "max_height": null,
            "align_content": null,
            "visibility": null,
            "align_self": null,
            "height": null,
            "min_height": null,
            "padding": null,
            "grid_auto_rows": null,
            "grid_gap": null,
            "max_width": null,
            "order": null,
            "_view_module_version": "1.2.0",
            "grid_template_areas": null,
            "object_position": null,
            "object_fit": null,
            "grid_auto_columns": null,
            "margin": null,
            "display": null,
            "left": null
          }
        },
        "c5eaca027c5644c5a315e4b486ca9769": {
          "model_module": "@jupyter-widgets/controls",
          "model_name": "FloatProgressModel",
          "state": {
            "_view_name": "ProgressView",
            "style": "IPY_MODEL_b83658cb88ff42ee9f6ecc852b07a875",
            "_dom_classes": [],
            "description": "",
            "_model_name": "FloatProgressModel",
            "bar_style": "info",
            "max": 1,
            "_view_module": "@jupyter-widgets/controls",
            "_model_module_version": "1.5.0",
            "value": 1,
            "_view_count": null,
            "_view_module_version": "1.5.0",
            "orientation": "horizontal",
            "min": 0,
            "description_tooltip": null,
            "_model_module": "@jupyter-widgets/controls",
            "layout": "IPY_MODEL_f080eb8555af40a090e64d5ffdba7d09"
          }
        },
        "cd7c6d609c174d9baa94389d2566373b": {
          "model_module": "@jupyter-widgets/controls",
          "model_name": "HTMLModel",
          "state": {
            "_view_name": "HTMLView",
            "style": "IPY_MODEL_d32af9459bca43219fa0a295d1e2d5d2",
            "_dom_classes": [],
            "description": "",
            "_model_name": "HTMLModel",
            "placeholder": "​",
            "_view_module": "@jupyter-widgets/controls",
            "_model_module_version": "1.5.0",
            "value": " 50000/0 [00:17&lt;00:00, 3793.75 examples/s]",
            "_view_count": null,
            "_view_module_version": "1.5.0",
            "description_tooltip": null,
            "_model_module": "@jupyter-widgets/controls",
            "layout": "IPY_MODEL_458c6caf005b48fd8184cffa3960caed"
          }
        },
        "b83658cb88ff42ee9f6ecc852b07a875": {
          "model_module": "@jupyter-widgets/controls",
          "model_name": "ProgressStyleModel",
          "state": {
            "_view_name": "StyleView",
            "_model_name": "ProgressStyleModel",
            "description_width": "initial",
            "_view_module": "@jupyter-widgets/base",
            "_model_module_version": "1.5.0",
            "_view_count": null,
            "_view_module_version": "1.2.0",
            "bar_color": null,
            "_model_module": "@jupyter-widgets/controls"
          }
        },
        "f080eb8555af40a090e64d5ffdba7d09": {
          "model_module": "@jupyter-widgets/base",
          "model_name": "LayoutModel",
          "state": {
            "_view_name": "LayoutView",
            "grid_template_rows": null,
            "right": null,
            "justify_content": null,
            "_view_module": "@jupyter-widgets/base",
            "overflow": null,
            "_model_module_version": "1.2.0",
            "_view_count": null,
            "flex_flow": null,
            "width": null,
            "min_width": null,
            "border": null,
            "align_items": null,
            "bottom": null,
            "_model_module": "@jupyter-widgets/base",
            "top": null,
            "grid_column": null,
            "overflow_y": null,
            "overflow_x": null,
            "grid_auto_flow": null,
            "grid_area": null,
            "grid_template_columns": null,
            "flex": null,
            "_model_name": "LayoutModel",
            "justify_items": null,
            "grid_row": null,
            "max_height": null,
            "align_content": null,
            "visibility": null,
            "align_self": null,
            "height": null,
            "min_height": null,
            "padding": null,
            "grid_auto_rows": null,
            "grid_gap": null,
            "max_width": null,
            "order": null,
            "_view_module_version": "1.2.0",
            "grid_template_areas": null,
            "object_position": null,
            "object_fit": null,
            "grid_auto_columns": null,
            "margin": null,
            "display": null,
            "left": null
          }
        },
        "d32af9459bca43219fa0a295d1e2d5d2": {
          "model_module": "@jupyter-widgets/controls",
          "model_name": "DescriptionStyleModel",
          "state": {
            "_view_name": "StyleView",
            "_model_name": "DescriptionStyleModel",
            "description_width": "",
            "_view_module": "@jupyter-widgets/base",
            "_model_module_version": "1.5.0",
            "_view_count": null,
            "_view_module_version": "1.2.0",
            "_model_module": "@jupyter-widgets/controls"
          }
        },
        "458c6caf005b48fd8184cffa3960caed": {
          "model_module": "@jupyter-widgets/base",
          "model_name": "LayoutModel",
          "state": {
            "_view_name": "LayoutView",
            "grid_template_rows": null,
            "right": null,
            "justify_content": null,
            "_view_module": "@jupyter-widgets/base",
            "overflow": null,
            "_model_module_version": "1.2.0",
            "_view_count": null,
            "flex_flow": null,
            "width": null,
            "min_width": null,
            "border": null,
            "align_items": null,
            "bottom": null,
            "_model_module": "@jupyter-widgets/base",
            "top": null,
            "grid_column": null,
            "overflow_y": null,
            "overflow_x": null,
            "grid_auto_flow": null,
            "grid_area": null,
            "grid_template_columns": null,
            "flex": null,
            "_model_name": "LayoutModel",
            "justify_items": null,
            "grid_row": null,
            "max_height": null,
            "align_content": null,
            "visibility": null,
            "align_self": null,
            "height": null,
            "min_height": null,
            "padding": null,
            "grid_auto_rows": null,
            "grid_gap": null,
            "max_width": null,
            "order": null,
            "_view_module_version": "1.2.0",
            "grid_template_areas": null,
            "object_position": null,
            "object_fit": null,
            "grid_auto_columns": null,
            "margin": null,
            "display": null,
            "left": null
          }
        },
        "135d24a3c7fb47d2b24df121329bad09": {
          "model_module": "@jupyter-widgets/controls",
          "model_name": "HBoxModel",
          "state": {
            "_view_name": "HBoxView",
            "_dom_classes": [],
            "_model_name": "HBoxModel",
            "_view_module": "@jupyter-widgets/controls",
            "_model_module_version": "1.5.0",
            "_view_count": null,
            "_view_module_version": "1.5.0",
            "box_style": "",
            "layout": "IPY_MODEL_b110fa0627904f95964b1a38ef521b92",
            "_model_module": "@jupyter-widgets/controls",
            "children": [
              "IPY_MODEL_6a8704cbc08940f1ab7874a2f78affcc",
              "IPY_MODEL_e5b9fd15fba34a3ab666fc4c25797da7"
            ]
          }
        },
        "b110fa0627904f95964b1a38ef521b92": {
          "model_module": "@jupyter-widgets/base",
          "model_name": "LayoutModel",
          "state": {
            "_view_name": "LayoutView",
            "grid_template_rows": null,
            "right": null,
            "justify_content": null,
            "_view_module": "@jupyter-widgets/base",
            "overflow": null,
            "_model_module_version": "1.2.0",
            "_view_count": null,
            "flex_flow": null,
            "width": null,
            "min_width": null,
            "border": null,
            "align_items": null,
            "bottom": null,
            "_model_module": "@jupyter-widgets/base",
            "top": null,
            "grid_column": null,
            "overflow_y": null,
            "overflow_x": null,
            "grid_auto_flow": null,
            "grid_area": null,
            "grid_template_columns": null,
            "flex": null,
            "_model_name": "LayoutModel",
            "justify_items": null,
            "grid_row": null,
            "max_height": null,
            "align_content": null,
            "visibility": null,
            "align_self": null,
            "height": null,
            "min_height": null,
            "padding": null,
            "grid_auto_rows": null,
            "grid_gap": null,
            "max_width": null,
            "order": null,
            "_view_module_version": "1.2.0",
            "grid_template_areas": null,
            "object_position": null,
            "object_fit": null,
            "grid_auto_columns": null,
            "margin": null,
            "display": null,
            "left": null
          }
        },
        "6a8704cbc08940f1ab7874a2f78affcc": {
          "model_module": "@jupyter-widgets/controls",
          "model_name": "FloatProgressModel",
          "state": {
            "_view_name": "ProgressView",
            "style": "IPY_MODEL_817df25b9d5e4fa8ae717fa899ccbaae",
            "_dom_classes": [],
            "description": " 59%",
            "_model_name": "FloatProgressModel",
            "bar_style": "danger",
            "max": 50000,
            "_view_module": "@jupyter-widgets/controls",
            "_model_module_version": "1.5.0",
            "value": 29734,
            "_view_count": null,
            "_view_module_version": "1.5.0",
            "orientation": "horizontal",
            "min": 0,
            "description_tooltip": null,
            "_model_module": "@jupyter-widgets/controls",
            "layout": "IPY_MODEL_ef40fce191534072aee62aa6ab5611c1"
          }
        },
        "e5b9fd15fba34a3ab666fc4c25797da7": {
          "model_module": "@jupyter-widgets/controls",
          "model_name": "HTMLModel",
          "state": {
            "_view_name": "HTMLView",
            "style": "IPY_MODEL_f4f12777af514cea8214c860c04bbc84",
            "_dom_classes": [],
            "description": "",
            "_model_name": "HTMLModel",
            "placeholder": "​",
            "_view_module": "@jupyter-widgets/controls",
            "_model_module_version": "1.5.0",
            "value": " 29734/50000 [00:00&lt;00:00, 58953.02 examples/s]",
            "_view_count": null,
            "_view_module_version": "1.5.0",
            "description_tooltip": null,
            "_model_module": "@jupyter-widgets/controls",
            "layout": "IPY_MODEL_9c2666b0f8e345f58709463b8a57c3a3"
          }
        },
        "817df25b9d5e4fa8ae717fa899ccbaae": {
          "model_module": "@jupyter-widgets/controls",
          "model_name": "ProgressStyleModel",
          "state": {
            "_view_name": "StyleView",
            "_model_name": "ProgressStyleModel",
            "description_width": "initial",
            "_view_module": "@jupyter-widgets/base",
            "_model_module_version": "1.5.0",
            "_view_count": null,
            "_view_module_version": "1.2.0",
            "bar_color": null,
            "_model_module": "@jupyter-widgets/controls"
          }
        },
        "ef40fce191534072aee62aa6ab5611c1": {
          "model_module": "@jupyter-widgets/base",
          "model_name": "LayoutModel",
          "state": {
            "_view_name": "LayoutView",
            "grid_template_rows": null,
            "right": null,
            "justify_content": null,
            "_view_module": "@jupyter-widgets/base",
            "overflow": null,
            "_model_module_version": "1.2.0",
            "_view_count": null,
            "flex_flow": null,
            "width": null,
            "min_width": null,
            "border": null,
            "align_items": null,
            "bottom": null,
            "_model_module": "@jupyter-widgets/base",
            "top": null,
            "grid_column": null,
            "overflow_y": null,
            "overflow_x": null,
            "grid_auto_flow": null,
            "grid_area": null,
            "grid_template_columns": null,
            "flex": null,
            "_model_name": "LayoutModel",
            "justify_items": null,
            "grid_row": null,
            "max_height": null,
            "align_content": null,
            "visibility": null,
            "align_self": null,
            "height": null,
            "min_height": null,
            "padding": null,
            "grid_auto_rows": null,
            "grid_gap": null,
            "max_width": null,
            "order": null,
            "_view_module_version": "1.2.0",
            "grid_template_areas": null,
            "object_position": null,
            "object_fit": null,
            "grid_auto_columns": null,
            "margin": null,
            "display": null,
            "left": null
          }
        },
        "f4f12777af514cea8214c860c04bbc84": {
          "model_module": "@jupyter-widgets/controls",
          "model_name": "DescriptionStyleModel",
          "state": {
            "_view_name": "StyleView",
            "_model_name": "DescriptionStyleModel",
            "description_width": "",
            "_view_module": "@jupyter-widgets/base",
            "_model_module_version": "1.5.0",
            "_view_count": null,
            "_view_module_version": "1.2.0",
            "_model_module": "@jupyter-widgets/controls"
          }
        },
        "9c2666b0f8e345f58709463b8a57c3a3": {
          "model_module": "@jupyter-widgets/base",
          "model_name": "LayoutModel",
          "state": {
            "_view_name": "LayoutView",
            "grid_template_rows": null,
            "right": null,
            "justify_content": null,
            "_view_module": "@jupyter-widgets/base",
            "overflow": null,
            "_model_module_version": "1.2.0",
            "_view_count": null,
            "flex_flow": null,
            "width": null,
            "min_width": null,
            "border": null,
            "align_items": null,
            "bottom": null,
            "_model_module": "@jupyter-widgets/base",
            "top": null,
            "grid_column": null,
            "overflow_y": null,
            "overflow_x": null,
            "grid_auto_flow": null,
            "grid_area": null,
            "grid_template_columns": null,
            "flex": null,
            "_model_name": "LayoutModel",
            "justify_items": null,
            "grid_row": null,
            "max_height": null,
            "align_content": null,
            "visibility": null,
            "align_self": null,
            "height": null,
            "min_height": null,
            "padding": null,
            "grid_auto_rows": null,
            "grid_gap": null,
            "max_width": null,
            "order": null,
            "_view_module_version": "1.2.0",
            "grid_template_areas": null,
            "object_position": null,
            "object_fit": null,
            "grid_auto_columns": null,
            "margin": null,
            "display": null,
            "left": null
          }
        }
      }
    },
    "accelerator": "GPU"
  },
  "cells": [
    {
      "cell_type": "markdown",
      "metadata": {
        "id": "view-in-github",
        "colab_type": "text"
      },
      "source": [
        "<a href=\"https://colab.research.google.com/github/hieukien/Ph-n-t-ch-c-m-x-c-b-ng-NLP/blob/main/Untitled0.ipynb\" target=\"_parent\"><img src=\"https://colab.research.google.com/assets/colab-badge.svg\" alt=\"Open In Colab\"/></a>"
      ]
    },
    {
      "cell_type": "markdown",
      "metadata": {
        "id": "3VMpv9Kkqt7e"
      },
      "source": [
        "**Load dữ liệu**"
      ]
    },
    {
      "cell_type": "code",
      "metadata": {
        "colab": {
          "base_uri": "https://localhost:8080/",
          "height": 367,
          "referenced_widgets": [
            "8225f382a49843f9ab1cb5380cff27da",
            "5f10e487ced0491ab0695e97fbdcbf1a",
            "63ec975bb276406281c4007e3c0e2fb2",
            "d168314c22da4b219f6d5a672574d480",
            "adea5a1f44244f6ea7b7cc2de5ed96ef",
            "33cd301630dc4aef9c5d60daf3ba274c",
            "29b1fdbb95de42ed89ec68ab176dbbab",
            "70abcf699d57493c922aa01826f36302",
            "cefbe152147f465f9c24ed0ab54f31ca",
            "b9306bcd4bac4facbffc154c4bf66ba0",
            "8f4568443e644f43924489d0ee95d4d5",
            "f7056762c4484b19b66f4cda407c5fb0",
            "6aeffdd00150416fad3b587db96a9cf6",
            "803ef7e55f734f8c9575ab8a94c5be3f",
            "a1f9e24f2a3b44d1a7192bfe9acf45c8",
            "a0c7471e27854c59bf3f766b3ce010be",
            "312fa18fcbc74b1db6bb2189bfbfc5ff",
            "4c6af9f76d96436bb593083aa2ec990d",
            "129109e43fac4872b0c0dee61cb3ef8c",
            "43da5bd282d448d4ba8916338621fdcc",
            "530bb3a766e44e5aab8d57f3d47b756d",
            "791193d0d4524eccb820c47cfccda316",
            "c36aec05abcb4cc1a27d5dfc40410507",
            "d7e7af383a7048f08e89bbdb56a8a558",
            "f2116c41a51f4480b824ce9a1ca88912",
            "718bee8f18104e3eae061ec155f76f82",
            "1befe02fd4ff4058b97906ca606668ea",
            "59b5f39f1bdb469ca3cf2325a1803bc1",
            "d954e56a411648a5bd081fa0d5d63881",
            "bb767e9e3c7c4c61929a2215fb0606a2",
            "f55d861debdc43e2ad973ad2621e8838",
            "59c0e71e23254874b3a8fae0b162817a",
            "512af354f5174894986c9dfe1c4b639a",
            "f4a3e038adc64cccadb0b95ca7841154",
            "24f54d31b3744977839a348a6ff49c96",
            "398333e848124e5c9383152772640642",
            "d58f1e0ca2664d81b8885742f734d130",
            "fd7f10c9348440579322afd4c1cddfec",
            "b9711892593e4cf2b2325d979bbafee9",
            "9fd5bcb25a0f41e6a3af054a556e3b2f",
            "5c7153f42913483d956c3353a05270bd",
            "1615470f407a43d48b4947a1e99ea0bf",
            "54ffde54544440f2bb13b1a7a1d31cbc",
            "cd483f4e7ea343f2af54816e0a23c340",
            "00ad5cb4fa784ffe91b4b450b7905eab",
            "09ae86e7486e4614987aaa1dda0e9357",
            "206e8bf87cc94691978d5767a54ed129",
            "bfc3743bf51b4094a6eede2e613bb82c",
            "b7edeb60759146c5aee274f10a01525f",
            "1ef358b72d2c4d278041fabe08190d2a",
            "c5eaca027c5644c5a315e4b486ca9769",
            "cd7c6d609c174d9baa94389d2566373b",
            "b83658cb88ff42ee9f6ecc852b07a875",
            "f080eb8555af40a090e64d5ffdba7d09",
            "d32af9459bca43219fa0a295d1e2d5d2",
            "458c6caf005b48fd8184cffa3960caed",
            "135d24a3c7fb47d2b24df121329bad09",
            "b110fa0627904f95964b1a38ef521b92",
            "6a8704cbc08940f1ab7874a2f78affcc",
            "e5b9fd15fba34a3ab666fc4c25797da7",
            "817df25b9d5e4fa8ae717fa899ccbaae",
            "ef40fce191534072aee62aa6ab5611c1",
            "f4f12777af514cea8214c860c04bbc84",
            "9c2666b0f8e345f58709463b8a57c3a3"
          ]
        },
        "id": "i9EcKOsMF_LA",
        "outputId": "af83f12b-5889-44ad-d05d-480341db56ee"
      },
      "source": [
        "import tensorflow_datasets as tfds\n",
        "imdb,info=tfds.load(\"imdb_reviews\",with_info=True,as_supervised=True)"
      ],
      "execution_count": 1,
      "outputs": [
        {
          "output_type": "stream",
          "text": [
            "\u001b[1mDownloading and preparing dataset imdb_reviews/plain_text/1.0.0 (download: 80.23 MiB, generated: Unknown size, total: 80.23 MiB) to /root/tensorflow_datasets/imdb_reviews/plain_text/1.0.0...\u001b[0m\n"
          ],
          "name": "stdout"
        },
        {
          "output_type": "display_data",
          "data": {
            "application/vnd.jupyter.widget-view+json": {
              "model_id": "8225f382a49843f9ab1cb5380cff27da",
              "version_minor": 0,
              "version_major": 2
            },
            "text/plain": [
              "HBox(children=(FloatProgress(value=1.0, bar_style='info', description='Dl Completed...', max=1.0, style=Progre…"
            ]
          },
          "metadata": {
            "tags": []
          }
        },
        {
          "output_type": "display_data",
          "data": {
            "application/vnd.jupyter.widget-view+json": {
              "model_id": "cefbe152147f465f9c24ed0ab54f31ca",
              "version_minor": 0,
              "version_major": 2
            },
            "text/plain": [
              "HBox(children=(FloatProgress(value=1.0, bar_style='info', description='Dl Size...', max=1.0, style=ProgressSty…"
            ]
          },
          "metadata": {
            "tags": []
          }
        },
        {
          "output_type": "stream",
          "text": [
            "\n",
            "\n",
            "\n",
            "\n"
          ],
          "name": "stdout"
        },
        {
          "output_type": "display_data",
          "data": {
            "application/vnd.jupyter.widget-view+json": {
              "model_id": "312fa18fcbc74b1db6bb2189bfbfc5ff",
              "version_minor": 0,
              "version_major": 2
            },
            "text/plain": [
              "HBox(children=(FloatProgress(value=1.0, bar_style='info', max=1.0), HTML(value='')))"
            ]
          },
          "metadata": {
            "tags": []
          }
        },
        {
          "output_type": "stream",
          "text": [
            "\rShuffling and writing examples to /root/tensorflow_datasets/imdb_reviews/plain_text/1.0.0.incompleteZWN87Q/imdb_reviews-train.tfrecord\n"
          ],
          "name": "stdout"
        },
        {
          "output_type": "display_data",
          "data": {
            "application/vnd.jupyter.widget-view+json": {
              "model_id": "f2116c41a51f4480b824ce9a1ca88912",
              "version_minor": 0,
              "version_major": 2
            },
            "text/plain": [
              "HBox(children=(FloatProgress(value=0.0, max=25000.0), HTML(value='')))"
            ]
          },
          "metadata": {
            "tags": []
          }
        },
        {
          "output_type": "stream",
          "text": [
            "\r"
          ],
          "name": "stdout"
        },
        {
          "output_type": "display_data",
          "data": {
            "application/vnd.jupyter.widget-view+json": {
              "model_id": "512af354f5174894986c9dfe1c4b639a",
              "version_minor": 0,
              "version_major": 2
            },
            "text/plain": [
              "HBox(children=(FloatProgress(value=1.0, bar_style='info', max=1.0), HTML(value='')))"
            ]
          },
          "metadata": {
            "tags": []
          }
        },
        {
          "output_type": "stream",
          "text": [
            "\rShuffling and writing examples to /root/tensorflow_datasets/imdb_reviews/plain_text/1.0.0.incompleteZWN87Q/imdb_reviews-test.tfrecord\n"
          ],
          "name": "stdout"
        },
        {
          "output_type": "display_data",
          "data": {
            "application/vnd.jupyter.widget-view+json": {
              "model_id": "5c7153f42913483d956c3353a05270bd",
              "version_minor": 0,
              "version_major": 2
            },
            "text/plain": [
              "HBox(children=(FloatProgress(value=0.0, max=25000.0), HTML(value='')))"
            ]
          },
          "metadata": {
            "tags": []
          }
        },
        {
          "output_type": "stream",
          "text": [
            "\r"
          ],
          "name": "stdout"
        },
        {
          "output_type": "display_data",
          "data": {
            "application/vnd.jupyter.widget-view+json": {
              "model_id": "b7edeb60759146c5aee274f10a01525f",
              "version_minor": 0,
              "version_major": 2
            },
            "text/plain": [
              "HBox(children=(FloatProgress(value=1.0, bar_style='info', max=1.0), HTML(value='')))"
            ]
          },
          "metadata": {
            "tags": []
          }
        },
        {
          "output_type": "stream",
          "text": [
            "\rShuffling and writing examples to /root/tensorflow_datasets/imdb_reviews/plain_text/1.0.0.incompleteZWN87Q/imdb_reviews-unsupervised.tfrecord\n"
          ],
          "name": "stdout"
        },
        {
          "output_type": "display_data",
          "data": {
            "application/vnd.jupyter.widget-view+json": {
              "model_id": "135d24a3c7fb47d2b24df121329bad09",
              "version_minor": 0,
              "version_major": 2
            },
            "text/plain": [
              "HBox(children=(FloatProgress(value=0.0, max=50000.0), HTML(value='')))"
            ]
          },
          "metadata": {
            "tags": []
          }
        },
        {
          "output_type": "stream",
          "text": [
            "WARNING:absl:Dataset is using deprecated text encoder API which will be removed soon. Please use the plain_text version of the dataset and migrate to `tensorflow_text`.\n"
          ],
          "name": "stderr"
        },
        {
          "output_type": "stream",
          "text": [
            "\u001b[1mDataset imdb_reviews downloaded and prepared to /root/tensorflow_datasets/imdb_reviews/plain_text/1.0.0. Subsequent calls will reuse this data.\u001b[0m\n",
            "\r"
          ],
          "name": "stdout"
        }
      ]
    },
    {
      "cell_type": "markdown",
      "metadata": {
        "id": "5BQCu1EOq62d"
      },
      "source": [
        "**Import các thư viện cần** **dùng** "
      ]
    },
    {
      "cell_type": "code",
      "metadata": {
        "colab": {
          "base_uri": "https://localhost:8080/"
        },
        "id": "lLlyQ8pdG_8a",
        "outputId": "cbee7a20-a3f5-4878-f904-2346887d9f7c"
      },
      "source": [
        "from nltk.tokenize import word_tokenize\n",
        "from nltk.tokenize import sent_tokenize\n",
        "import nltk\n",
        "import re\n",
        "nltk.download('punkt')\n",
        "nltk.download(\"stopwords\")\n",
        "from nltk.corpus import stopwords\n",
        "from nltk.stem.porter import PorterStemmer"
      ],
      "execution_count": null,
      "outputs": [
        {
          "output_type": "stream",
          "text": [
            "[nltk_data] Downloading package punkt to /root/nltk_data...\n",
            "[nltk_data]   Unzipping tokenizers/punkt.zip.\n",
            "[nltk_data] Downloading package stopwords to /root/nltk_data...\n",
            "[nltk_data]   Unzipping corpora/stopwords.zip.\n"
          ],
          "name": "stdout"
        }
      ]
    },
    {
      "cell_type": "markdown",
      "metadata": {
        "id": "AwD2YfjTrITF"
      },
      "source": [
        "**Phân tách dữ liệu thành tập train và** **test**"
      ]
    },
    {
      "cell_type": "code",
      "metadata": {
        "id": "VC8VMTlmHFpZ"
      },
      "source": [
        "import numpy as np\n",
        "train_data,test_data=imdb[\"train\"],imdb[\"test\"]\n",
        "train_sentences=[]\n",
        "test_sentences=[]\n",
        "train_lable=[]\n",
        "test_lable=[]\n",
        "for s,l in train_data:\n",
        "  train_sentences.append(str(s.numpy()))\n",
        "  train_lable.append(l.numpy())\n",
        "for s,l in test_data:\n",
        "  test_sentences.append(str(s.numpy()))\n",
        "  test_lable.append(l.numpy())"
      ],
      "execution_count": null,
      "outputs": []
    },
    {
      "cell_type": "code",
      "metadata": {
        "id": "23m3694eHJ6C"
      },
      "source": [
        "train_lable=np.array(train_lable)\n",
        "test_lable=np.array(test_lable)"
      ],
      "execution_count": null,
      "outputs": []
    },
    {
      "cell_type": "code",
      "metadata": {
        "colab": {
          "base_uri": "https://localhost:8080/"
        },
        "id": "8KgoNY0pRVhs",
        "outputId": "435c2a87-e24f-41c6-f8a6-5b2be11e25b5"
      },
      "source": [
        "train_lable[0]"
      ],
      "execution_count": null,
      "outputs": [
        {
          "output_type": "execute_result",
          "data": {
            "text/plain": [
              "<bound method _EagerTensorBase.numpy of <tf.Tensor: shape=(), dtype=int64, numpy=0>>"
            ]
          },
          "metadata": {
            "tags": []
          },
          "execution_count": 26
        }
      ]
    },
    {
      "cell_type": "markdown",
      "metadata": {
        "id": "M-K151Ddrptg"
      },
      "source": [
        "**Xử lí dữ liệu loại các kí hiệu và từ không cần thiết**"
      ]
    },
    {
      "cell_type": "code",
      "metadata": {
        "id": "pQwxvmD2HM4_"
      },
      "source": [
        "import re\n",
        "corpus_train = []\n",
        "for review in train_sentences :\n",
        "  review = re.sub(\"[^a-zA-Z]\",\" \", review)\n",
        "  review=review.lower()\n",
        "  review=word_tokenize(review)\n",
        "  ps = PorterStemmer()\n",
        "  review = [ps.stem(word) for word in review if word not in stopwords.words(\"english\")]\n",
        "  review =\" \".join(review)\n",
        "  corpus_train.append(review)\n"
      ],
      "execution_count": null,
      "outputs": []
    },
    {
      "cell_type": "code",
      "metadata": {
        "id": "olWkZH0QKoWU"
      },
      "source": [
        "corpus_test = []\n",
        "for review in test_sentences :\n",
        "  review = re.sub(\"[^a-zA-Z]\",\" \", review)\n",
        "  review=review.lower()\n",
        "  review=word_tokenize(review)\n",
        "  ps = PorterStemmer()\n",
        "  review = [ps.stem(word) for word in review if word not in stopwords.words(\"english\")]\n",
        "  review =\" \".join(review)\n",
        "  corpus_test.append(review)\n"
      ],
      "execution_count": null,
      "outputs": []
    },
    {
      "cell_type": "markdown",
      "metadata": {
        "id": "ibCx6N6wzsQX"
      },
      "source": [
        "**Lưu và load dữ liệu vs file pickle**"
      ]
    },
    {
      "cell_type": "code",
      "metadata": {
        "id": "JHS3MBa1lYhQ"
      },
      "source": [
        "import pickle as pkl\n",
        "\n",
        "#to save it\n",
        "#with open(\"traint.pkl\", \"wb\") as f:\n",
        "#   pkl.dump([corpus_train, train_lable], f)\n",
        "#with open(\"testt.pkl\", \"wb\") as f:\n",
        "    #pkl.dump([corpus_test, test_lable], f)\n",
        "with open(\"/content/drive/MyDrive/đồ án pthon/traint.pkl\", \"rb\") as f:\n",
        "    corpus_train, train_lable = pkl.load(f)\n",
        "with open(\"/content/drive/MyDrive/đồ án pthon/testt.pkl\", \"rb\") as f:\n",
        "    corpus_test, test_lable = pkl.load(f)"
      ],
      "execution_count": null,
      "outputs": []
    },
    {
      "cell_type": "markdown",
      "metadata": {
        "id": "S-u8TucXsYaD"
      },
      "source": [
        "**Tạo từ điển**"
      ]
    },
    {
      "cell_type": "code",
      "metadata": {
        "id": "5KiMZ2yYP3ta"
      },
      "source": [
        "from tensorflow.keras.preprocessing.text import Tokenizer\n",
        "from tensorflow.keras.preprocessing.sequence import pad_sequences\n",
        "tokenizer=Tokenizer(num_words=10000,oov_token=\"<OOV>\")\n",
        "tokenizer.fit_on_texts(train_sentences)"
      ],
      "execution_count": null,
      "outputs": []
    },
    {
      "cell_type": "markdown",
      "metadata": {
        "id": "ywwLDW7Esc4D"
      },
      "source": [
        "**Cân bằng số lượng từ trong câu**"
      ]
    },
    {
      "cell_type": "code",
      "metadata": {
        "id": "r4WNWcW4Pkpa"
      },
      "source": [
        "from tensorflow.keras.preprocessing.text import Tokenizer\n",
        "from tensorflow.keras.preprocessing.sequence import pad_sequences\n",
        "tokenizer=Tokenizer(num_words=10000,oov_token=\"<OOV>\")\n",
        "tokenizer.fit_on_texts(corpus_train)\n",
        "train=tokenizer.texts_to_sequences(corpus_train)\n",
        "train_pad=pad_sequences(train,maxlen=140,truncating='post',padding='post')\n",
        "test=tokenizer.texts_to_sequences(corpus_test)\n",
        "test_pad=pad_sequences(test,maxlen=140,truncating='post',padding='post')\n"
      ],
      "execution_count": null,
      "outputs": []
    },
    {
      "cell_type": "code",
      "metadata": {
        "colab": {
          "base_uri": "https://localhost:8080/"
        },
        "id": "DCU3iPpjZs9z",
        "outputId": "782f0007-9781-4396-aea7-64313f357e8f"
      },
      "source": [
        "cd/content/drive/MyDrive/đồ án pthon"
      ],
      "execution_count": null,
      "outputs": [
        {
          "output_type": "stream",
          "text": [
            "/content/drive/MyDrive/đồ án pthon\n"
          ],
          "name": "stdout"
        }
      ]
    },
    {
      "cell_type": "code",
      "metadata": {
        "colab": {
          "base_uri": "https://localhost:8080/"
        },
        "id": "iYgLrWTtQqCv",
        "outputId": "e5f6f2be-4fc9-4c6c-bf77-7d67906df189"
      },
      "source": [
        "cd/content/drive/MyDrive/đồ án pthon"
      ],
      "execution_count": null,
      "outputs": [
        {
          "output_type": "stream",
          "text": [
            "/content/drive/MyDrive/đồ án pthon\n"
          ],
          "name": "stdout"
        }
      ]
    },
    {
      "cell_type": "code",
      "metadata": {
        "colab": {
          "base_uri": "https://localhost:8080/"
        },
        "id": "zjnfuDfvQtKx",
        "outputId": "08838832-0987-425e-cc88-fd3bf90165cc"
      },
      "source": [
        "train_lable"
      ],
      "execution_count": null,
      "outputs": [
        {
          "output_type": "execute_result",
          "data": {
            "text/plain": [
              "array(['<bound method _EagerTensorBase.numpy of <tf.Tensor: shape=(), dtype=int64, numpy=0>>',\n",
              "       '<bound method _EagerTensorBase.numpy of <tf.Tensor: shape=(), dtype=int64, numpy=0>>',\n",
              "       '<bound method _EagerTensorBase.numpy of <tf.Tensor: shape=(), dtype=int64, numpy=0>>',\n",
              "       ...,\n",
              "       '<bound method _EagerTensorBase.numpy of <tf.Tensor: shape=(), dtype=int64, numpy=0>>',\n",
              "       '<bound method _EagerTensorBase.numpy of <tf.Tensor: shape=(), dtype=int64, numpy=0>>',\n",
              "       '<bound method _EagerTensorBase.numpy of <tf.Tensor: shape=(), dtype=int64, numpy=1>>'],\n",
              "      dtype='<U84')"
            ]
          },
          "metadata": {
            "tags": []
          },
          "execution_count": 18
        }
      ]
    },
    {
      "cell_type": "markdown",
      "metadata": {
        "id": "tIopkWXhaGVZ"
      },
      "source": [
        "**Lư dữ liệu vào file pickle**"
      ]
    },
    {
      "cell_type": "code",
      "metadata": {
        "id": "r-0ezEJNP5yp"
      },
      "source": [
        "import pickle as pkl\n",
        "\n",
        "#to save it\n",
        "with open(\"train.pkl\", \"wb\") as f:\n",
        "    pkl.dump([train_pad, train_lable], f)\n",
        "with open(\"test.pkl\", \"wb\") as f:\n",
        "    pkl.dump([test_pad, test_lable], f)\n",
        "\n"
      ],
      "execution_count": null,
      "outputs": []
    },
    {
      "cell_type": "markdown",
      "metadata": {
        "id": "SJv_J7T1splr"
      },
      "source": [
        "**Load dữ liệu đã xử lí xong**"
      ]
    },
    {
      "cell_type": "code",
      "metadata": {
        "id": "TYJqjR2aP7kh"
      },
      "source": [
        "import pickle as pkl\n",
        "with open(\"/content/drive/MyDrive/đồ án pthon/train.pkl\", \"rb\") as f:\n",
        "    train_x, train_y = pkl.load(f)\n",
        "with open(\"/content/drive/MyDrive/đồ án pthon/test.pkl\", \"rb\") as f:\n",
        "    test_x, test_y = pkl.load(f)"
      ],
      "execution_count": null,
      "outputs": []
    },
    {
      "cell_type": "code",
      "metadata": {
        "id": "wfCaQe4WJdR_"
      },
      "source": [
        "from tensorflow.keras.models import Sequential\n"
      ],
      "execution_count": null,
      "outputs": []
    },
    {
      "cell_type": "code",
      "metadata": {
        "id": "x24BWRexkCou"
      },
      "source": [
        "from tensorflow.keras.layers import  Embedding\n"
      ],
      "execution_count": null,
      "outputs": []
    },
    {
      "cell_type": "code",
      "metadata": {
        "id": "uPuAy9PLkFF0"
      },
      "source": [
        "from tensorflow.keras.layers import  Flatten\n",
        "from tensorflow.keras.layers import Dense"
      ],
      "execution_count": null,
      "outputs": []
    },
    {
      "cell_type": "code",
      "metadata": {
        "id": "f0D3JPwhYXD3"
      },
      "source": [
        "model=Sequential()"
      ],
      "execution_count": null,
      "outputs": []
    },
    {
      "cell_type": "code",
      "metadata": {
        "id": "-LLgph1tYZdc"
      },
      "source": [
        "model.add(Embedding(10000,64,input_length=140))"
      ],
      "execution_count": null,
      "outputs": []
    },
    {
      "cell_type": "code",
      "metadata": {
        "id": "ucStzqP5Ybel"
      },
      "source": [
        "model.add(Flatten())"
      ],
      "execution_count": null,
      "outputs": []
    },
    {
      "cell_type": "code",
      "metadata": {
        "id": "aT9ZrZrcYd00"
      },
      "source": [
        "model.add(Dense(10,activation='relu'))"
      ],
      "execution_count": null,
      "outputs": []
    },
    {
      "cell_type": "code",
      "metadata": {
        "id": "9Oobik8sYgZX"
      },
      "source": [
        "model.add(Dense(1,activation='sigmoid'))"
      ],
      "execution_count": null,
      "outputs": []
    },
    {
      "cell_type": "code",
      "metadata": {
        "id": "z6AKrk9agENi"
      },
      "source": [
        "model.compile(loss='binary_crossentropy',optimizer='adam',metrics=['acc'])"
      ],
      "execution_count": null,
      "outputs": []
    },
    {
      "cell_type": "code",
      "metadata": {
        "colab": {
          "base_uri": "https://localhost:8080/"
        },
        "id": "g0QCQknqcvQX",
        "outputId": "f6284fb4-600c-4850-9c70-c1f0978c7b50"
      },
      "source": [
        "model.summary()"
      ],
      "execution_count": null,
      "outputs": [
        {
          "output_type": "stream",
          "text": [
            "Model: \"sequential_2\"\n",
            "_________________________________________________________________\n",
            "Layer (type)                 Output Shape              Param #   \n",
            "=================================================================\n",
            "embedding_2 (Embedding)      (None, 140, 64)           640000    \n",
            "_________________________________________________________________\n",
            "flatten_3 (Flatten)          (None, 8960)              0         \n",
            "_________________________________________________________________\n",
            "dense_5 (Dense)              (None, 10)                89610     \n",
            "_________________________________________________________________\n",
            "dense_6 (Dense)              (None, 1)                 11        \n",
            "=================================================================\n",
            "Total params: 729,621\n",
            "Trainable params: 729,621\n",
            "Non-trainable params: 0\n",
            "_________________________________________________________________\n"
          ],
          "name": "stdout"
        }
      ]
    },
    {
      "cell_type": "markdown",
      "metadata": {
        "id": "b50AWoRFupTs"
      },
      "source": [
        "**Train model vs CNN**"
      ]
    },
    {
      "cell_type": "code",
      "metadata": {
        "colab": {
          "base_uri": "https://localhost:8080/"
        },
        "id": "9uigLwKYc_b0",
        "outputId": "fb1f2de2-55c9-4ee0-d6c5-f558b3654429"
      },
      "source": [
        "model.fit(train_x,train_y,epochs=100,validation_data=(test_x,test_y))"
      ],
      "execution_count": null,
      "outputs": [
        {
          "output_type": "stream",
          "text": [
            "Epoch 1/100\n",
            "782/782 [==============================] - 8s 10ms/step - loss: 1.5143e-09 - acc: 1.0000 - val_loss: 2.6868 - val_acc: 0.7930\n",
            "Epoch 2/100\n",
            "782/782 [==============================] - 8s 10ms/step - loss: 1.4707e-09 - acc: 1.0000 - val_loss: 2.6870 - val_acc: 0.7931\n",
            "Epoch 3/100\n",
            "782/782 [==============================] - 8s 10ms/step - loss: 1.4500e-09 - acc: 1.0000 - val_loss: 2.6954 - val_acc: 0.7932\n",
            "Epoch 4/100\n",
            "782/782 [==============================] - 8s 10ms/step - loss: 1.4243e-09 - acc: 1.0000 - val_loss: 2.7028 - val_acc: 0.7929\n",
            "Epoch 5/100\n",
            "782/782 [==============================] - 8s 10ms/step - loss: 1.3631e-09 - acc: 1.0000 - val_loss: 2.7063 - val_acc: 0.7931\n",
            "Epoch 6/100\n",
            "782/782 [==============================] - 8s 10ms/step - loss: 1.3653e-09 - acc: 1.0000 - val_loss: 2.7157 - val_acc: 0.7929\n",
            "Epoch 7/100\n",
            "782/782 [==============================] - 8s 10ms/step - loss: 1.3168e-09 - acc: 1.0000 - val_loss: 2.7240 - val_acc: 0.7926\n",
            "Epoch 8/100\n",
            "782/782 [==============================] - 8s 10ms/step - loss: 1.3132e-09 - acc: 1.0000 - val_loss: 2.7186 - val_acc: 0.7930\n",
            "Epoch 9/100\n",
            "782/782 [==============================] - 8s 10ms/step - loss: 1.3198e-09 - acc: 1.0000 - val_loss: 2.7355 - val_acc: 0.7923\n",
            "Epoch 10/100\n",
            "782/782 [==============================] - 8s 10ms/step - loss: 1.2917e-09 - acc: 1.0000 - val_loss: 2.7408 - val_acc: 0.7922\n",
            "Epoch 11/100\n",
            "782/782 [==============================] - 8s 10ms/step - loss: 1.2734e-09 - acc: 1.0000 - val_loss: 2.7465 - val_acc: 0.7922\n",
            "Epoch 12/100\n",
            "782/782 [==============================] - 8s 10ms/step - loss: 1.2713e-09 - acc: 1.0000 - val_loss: 2.7426 - val_acc: 0.7924\n",
            "Epoch 13/100\n",
            "782/782 [==============================] - 8s 10ms/step - loss: 1.2627e-09 - acc: 1.0000 - val_loss: 2.7456 - val_acc: 0.7925\n",
            "Epoch 14/100\n",
            "782/782 [==============================] - 8s 10ms/step - loss: 1.2687e-09 - acc: 1.0000 - val_loss: 2.7589 - val_acc: 0.7920\n",
            "Epoch 15/100\n",
            "782/782 [==============================] - 8s 10ms/step - loss: 1.2586e-09 - acc: 1.0000 - val_loss: 2.7558 - val_acc: 0.7919\n",
            "Epoch 16/100\n",
            "782/782 [==============================] - 8s 10ms/step - loss: 1.2652e-09 - acc: 1.0000 - val_loss: 2.7680 - val_acc: 0.7920\n",
            "Epoch 17/100\n",
            "782/782 [==============================] - 8s 10ms/step - loss: 1.2230e-09 - acc: 1.0000 - val_loss: 2.7611 - val_acc: 0.7918\n",
            "Epoch 18/100\n",
            "782/782 [==============================] - 8s 10ms/step - loss: 1.1973e-09 - acc: 1.0000 - val_loss: 2.7725 - val_acc: 0.7916\n",
            "Epoch 19/100\n",
            "782/782 [==============================] - 8s 10ms/step - loss: 1.2214e-09 - acc: 1.0000 - val_loss: 2.7756 - val_acc: 0.7919\n",
            "Epoch 20/100\n",
            "782/782 [==============================] - 8s 10ms/step - loss: 1.2214e-09 - acc: 1.0000 - val_loss: 2.7795 - val_acc: 0.7918\n",
            "Epoch 21/100\n",
            "782/782 [==============================] - 8s 10ms/step - loss: 1.2195e-09 - acc: 1.0000 - val_loss: 2.7806 - val_acc: 0.7917\n",
            "Epoch 22/100\n",
            "782/782 [==============================] - 8s 10ms/step - loss: 1.2488e-09 - acc: 1.0000 - val_loss: 2.7759 - val_acc: 0.7918\n",
            "Epoch 23/100\n",
            "782/782 [==============================] - 8s 10ms/step - loss: 1.2232e-09 - acc: 1.0000 - val_loss: 2.7774 - val_acc: 0.7918\n",
            "Epoch 24/100\n",
            "782/782 [==============================] - 8s 10ms/step - loss: 1.2067e-09 - acc: 1.0000 - val_loss: 2.7874 - val_acc: 0.7918\n",
            "Epoch 25/100\n",
            "782/782 [==============================] - 8s 10ms/step - loss: 1.2402e-09 - acc: 1.0000 - val_loss: 2.7937 - val_acc: 0.7916\n",
            "Epoch 26/100\n",
            "782/782 [==============================] - 8s 10ms/step - loss: 1.2039e-09 - acc: 1.0000 - val_loss: 2.7885 - val_acc: 0.7918\n",
            "Epoch 27/100\n",
            "782/782 [==============================] - 8s 10ms/step - loss: 1.2182e-09 - acc: 1.0000 - val_loss: 2.7970 - val_acc: 0.7917\n",
            "Epoch 28/100\n",
            "782/782 [==============================] - 8s 10ms/step - loss: 1.2032e-09 - acc: 1.0000 - val_loss: 2.7846 - val_acc: 0.7918\n",
            "Epoch 29/100\n",
            "782/782 [==============================] - 8s 10ms/step - loss: 1.2204e-09 - acc: 1.0000 - val_loss: 2.7930 - val_acc: 0.7915\n",
            "Epoch 30/100\n",
            "782/782 [==============================] - 8s 10ms/step - loss: 1.1714e-09 - acc: 1.0000 - val_loss: 2.8057 - val_acc: 0.7910\n",
            "Epoch 31/100\n",
            "782/782 [==============================] - 8s 10ms/step - loss: 1.2019e-09 - acc: 1.0000 - val_loss: 2.7966 - val_acc: 0.7916\n",
            "Epoch 32/100\n",
            "782/782 [==============================] - 8s 10ms/step - loss: 1.1885e-09 - acc: 1.0000 - val_loss: 2.7996 - val_acc: 0.7915\n",
            "Epoch 33/100\n",
            "782/782 [==============================] - 8s 10ms/step - loss: 1.1379e-09 - acc: 1.0000 - val_loss: 2.8080 - val_acc: 0.7917\n",
            "Epoch 34/100\n",
            "782/782 [==============================] - 8s 10ms/step - loss: 1.1590e-09 - acc: 1.0000 - val_loss: 2.8019 - val_acc: 0.7917\n",
            "Epoch 35/100\n",
            "782/782 [==============================] - 8s 10ms/step - loss: 1.2101e-09 - acc: 1.0000 - val_loss: 2.8139 - val_acc: 0.7911\n",
            "Epoch 36/100\n",
            "782/782 [==============================] - 8s 10ms/step - loss: 1.2004e-09 - acc: 1.0000 - val_loss: 2.8117 - val_acc: 0.7916\n",
            "Epoch 37/100\n",
            "782/782 [==============================] - 8s 10ms/step - loss: 1.2143e-09 - acc: 1.0000 - val_loss: 2.8044 - val_acc: 0.7918\n",
            "Epoch 38/100\n",
            "782/782 [==============================] - 8s 10ms/step - loss: 1.2288e-09 - acc: 1.0000 - val_loss: 2.8155 - val_acc: 0.7916\n",
            "Epoch 39/100\n",
            "782/782 [==============================] - 8s 10ms/step - loss: 1.2038e-09 - acc: 1.0000 - val_loss: 2.8190 - val_acc: 0.7914\n",
            "Epoch 40/100\n",
            "782/782 [==============================] - 8s 10ms/step - loss: 1.1725e-09 - acc: 1.0000 - val_loss: 2.8134 - val_acc: 0.7914\n",
            "Epoch 41/100\n",
            "782/782 [==============================] - 8s 10ms/step - loss: 1.2020e-09 - acc: 1.0000 - val_loss: 2.8142 - val_acc: 0.7915\n",
            "Epoch 42/100\n",
            "782/782 [==============================] - 8s 10ms/step - loss: 1.1953e-09 - acc: 1.0000 - val_loss: 2.8314 - val_acc: 0.7906\n",
            "Epoch 43/100\n",
            "782/782 [==============================] - 8s 10ms/step - loss: 1.1942e-09 - acc: 1.0000 - val_loss: 2.8237 - val_acc: 0.7914\n",
            "Epoch 44/100\n",
            "782/782 [==============================] - 8s 10ms/step - loss: 1.1965e-09 - acc: 1.0000 - val_loss: 2.8265 - val_acc: 0.7914\n",
            "Epoch 45/100\n",
            "782/782 [==============================] - 8s 10ms/step - loss: 1.1883e-09 - acc: 1.0000 - val_loss: 2.8146 - val_acc: 0.7916\n",
            "Epoch 46/100\n",
            "782/782 [==============================] - 8s 10ms/step - loss: 1.1704e-09 - acc: 1.0000 - val_loss: 2.8245 - val_acc: 0.7915\n",
            "Epoch 47/100\n",
            "782/782 [==============================] - 8s 10ms/step - loss: 1.1718e-09 - acc: 1.0000 - val_loss: 2.8326 - val_acc: 0.7912\n",
            "Epoch 48/100\n",
            "782/782 [==============================] - 8s 10ms/step - loss: 1.1961e-09 - acc: 1.0000 - val_loss: 2.8332 - val_acc: 0.7912\n",
            "Epoch 49/100\n",
            "782/782 [==============================] - 8s 10ms/step - loss: 1.1638e-09 - acc: 1.0000 - val_loss: 2.8273 - val_acc: 0.7916\n",
            "Epoch 50/100\n",
            "782/782 [==============================] - 8s 10ms/step - loss: 1.1910e-09 - acc: 1.0000 - val_loss: 2.8367 - val_acc: 0.7912\n",
            "Epoch 51/100\n",
            "782/782 [==============================] - 8s 10ms/step - loss: 1.1655e-09 - acc: 1.0000 - val_loss: 2.8391 - val_acc: 0.7910\n",
            "Epoch 52/100\n",
            "782/782 [==============================] - 8s 10ms/step - loss: 1.1843e-09 - acc: 1.0000 - val_loss: 2.8306 - val_acc: 0.7916\n",
            "Epoch 53/100\n",
            "782/782 [==============================] - 8s 10ms/step - loss: 1.1457e-09 - acc: 1.0000 - val_loss: 2.8254 - val_acc: 0.7918\n",
            "Epoch 54/100\n",
            "782/782 [==============================] - 8s 10ms/step - loss: 1.1582e-09 - acc: 1.0000 - val_loss: 2.8433 - val_acc: 0.7910\n",
            "Epoch 55/100\n",
            "782/782 [==============================] - 8s 10ms/step - loss: 1.1945e-09 - acc: 1.0000 - val_loss: 2.8415 - val_acc: 0.7915\n",
            "Epoch 56/100\n",
            "782/782 [==============================] - 8s 10ms/step - loss: 1.1636e-09 - acc: 1.0000 - val_loss: 2.8423 - val_acc: 0.7914\n",
            "Epoch 57/100\n",
            "782/782 [==============================] - 8s 10ms/step - loss: 1.2012e-09 - acc: 1.0000 - val_loss: 2.8390 - val_acc: 0.7918\n",
            "Epoch 58/100\n",
            "782/782 [==============================] - 8s 10ms/step - loss: 1.1439e-09 - acc: 1.0000 - val_loss: 2.8446 - val_acc: 0.7914\n",
            "Epoch 59/100\n",
            "782/782 [==============================] - 8s 10ms/step - loss: 1.1678e-09 - acc: 1.0000 - val_loss: 2.8451 - val_acc: 0.7912\n",
            "Epoch 60/100\n",
            "782/782 [==============================] - 8s 10ms/step - loss: 1.1486e-09 - acc: 1.0000 - val_loss: 2.8446 - val_acc: 0.7914\n",
            "Epoch 61/100\n",
            "782/782 [==============================] - 8s 10ms/step - loss: 1.1771e-09 - acc: 1.0000 - val_loss: 2.8414 - val_acc: 0.7912\n",
            "Epoch 62/100\n",
            "782/782 [==============================] - 8s 10ms/step - loss: 1.1767e-09 - acc: 1.0000 - val_loss: 2.8539 - val_acc: 0.7906\n",
            "Epoch 63/100\n",
            "782/782 [==============================] - 8s 10ms/step - loss: 1.1705e-09 - acc: 1.0000 - val_loss: 2.8535 - val_acc: 0.7905\n",
            "Epoch 64/100\n",
            "782/782 [==============================] - 8s 10ms/step - loss: 1.2060e-09 - acc: 1.0000 - val_loss: 2.8574 - val_acc: 0.7904\n",
            "Epoch 65/100\n",
            "782/782 [==============================] - 8s 10ms/step - loss: 1.1241e-09 - acc: 1.0000 - val_loss: 2.8565 - val_acc: 0.7905\n",
            "Epoch 66/100\n",
            "782/782 [==============================] - 8s 10ms/step - loss: 1.1480e-09 - acc: 1.0000 - val_loss: 2.8469 - val_acc: 0.7915\n",
            "Epoch 67/100\n",
            "782/782 [==============================] - 8s 10ms/step - loss: 1.1582e-09 - acc: 1.0000 - val_loss: 2.8550 - val_acc: 0.7907\n",
            "Epoch 68/100\n",
            "782/782 [==============================] - 8s 10ms/step - loss: 1.1787e-09 - acc: 1.0000 - val_loss: 2.8545 - val_acc: 0.7909\n",
            "Epoch 69/100\n",
            "782/782 [==============================] - 8s 10ms/step - loss: 1.1581e-09 - acc: 1.0000 - val_loss: 2.8454 - val_acc: 0.7912\n",
            "Epoch 70/100\n",
            "782/782 [==============================] - 8s 10ms/step - loss: 1.1390e-09 - acc: 1.0000 - val_loss: 2.8557 - val_acc: 0.7910\n",
            "Epoch 71/100\n",
            "782/782 [==============================] - 8s 10ms/step - loss: 1.1853e-09 - acc: 1.0000 - val_loss: 2.8606 - val_acc: 0.7905\n",
            "Epoch 72/100\n",
            "782/782 [==============================] - 8s 10ms/step - loss: 1.1707e-09 - acc: 1.0000 - val_loss: 2.8611 - val_acc: 0.7904\n",
            "Epoch 73/100\n",
            "782/782 [==============================] - 8s 10ms/step - loss: 1.1986e-09 - acc: 1.0000 - val_loss: 2.8516 - val_acc: 0.7909\n",
            "Epoch 74/100\n",
            "782/782 [==============================] - 8s 10ms/step - loss: 1.1851e-09 - acc: 1.0000 - val_loss: 2.8565 - val_acc: 0.7908\n",
            "Epoch 75/100\n",
            "782/782 [==============================] - 8s 10ms/step - loss: 1.1753e-09 - acc: 1.0000 - val_loss: 2.8564 - val_acc: 0.7910\n",
            "Epoch 76/100\n",
            "782/782 [==============================] - 8s 10ms/step - loss: 1.1551e-09 - acc: 1.0000 - val_loss: 2.8634 - val_acc: 0.7906\n",
            "Epoch 77/100\n",
            "782/782 [==============================] - 8s 10ms/step - loss: 1.1589e-09 - acc: 1.0000 - val_loss: 2.8653 - val_acc: 0.7906\n",
            "Epoch 78/100\n",
            "782/782 [==============================] - 8s 10ms/step - loss: 1.1596e-09 - acc: 1.0000 - val_loss: 2.8672 - val_acc: 0.7903\n",
            "Epoch 79/100\n",
            "782/782 [==============================] - 8s 10ms/step - loss: 1.1370e-09 - acc: 1.0000 - val_loss: 2.8732 - val_acc: 0.7904\n",
            "Epoch 80/100\n",
            "782/782 [==============================] - 8s 10ms/step - loss: 1.1589e-09 - acc: 1.0000 - val_loss: 2.8579 - val_acc: 0.7912\n",
            "Epoch 81/100\n",
            "782/782 [==============================] - 8s 10ms/step - loss: 1.1468e-09 - acc: 1.0000 - val_loss: 2.8704 - val_acc: 0.7902\n",
            "Epoch 82/100\n",
            "782/782 [==============================] - 8s 10ms/step - loss: 1.1793e-09 - acc: 1.0000 - val_loss: 2.8736 - val_acc: 0.7902\n",
            "Epoch 83/100\n",
            "782/782 [==============================] - 8s 10ms/step - loss: 1.1935e-09 - acc: 1.0000 - val_loss: 2.8706 - val_acc: 0.7904\n",
            "Epoch 84/100\n",
            "782/782 [==============================] - 8s 10ms/step - loss: 1.1484e-09 - acc: 1.0000 - val_loss: 2.8708 - val_acc: 0.7905\n",
            "Epoch 85/100\n",
            "782/782 [==============================] - 8s 10ms/step - loss: 1.1772e-09 - acc: 1.0000 - val_loss: 2.8763 - val_acc: 0.7900\n",
            "Epoch 86/100\n",
            "782/782 [==============================] - 8s 10ms/step - loss: 1.1514e-09 - acc: 1.0000 - val_loss: 2.8764 - val_acc: 0.7901\n",
            "Epoch 87/100\n",
            "782/782 [==============================] - 8s 10ms/step - loss: 1.1298e-09 - acc: 1.0000 - val_loss: 2.8711 - val_acc: 0.7908\n",
            "Epoch 88/100\n",
            "782/782 [==============================] - 8s 10ms/step - loss: 1.1969e-09 - acc: 1.0000 - val_loss: 2.8695 - val_acc: 0.7908\n",
            "Epoch 89/100\n",
            "782/782 [==============================] - 8s 10ms/step - loss: 1.1553e-09 - acc: 1.0000 - val_loss: 2.8690 - val_acc: 0.7909\n",
            "Epoch 90/100\n",
            "782/782 [==============================] - 8s 10ms/step - loss: 1.1659e-09 - acc: 1.0000 - val_loss: 2.8831 - val_acc: 0.7900\n",
            "Epoch 91/100\n",
            "782/782 [==============================] - 8s 10ms/step - loss: 1.1649e-09 - acc: 1.0000 - val_loss: 2.8807 - val_acc: 0.7901\n",
            "Epoch 92/100\n",
            "782/782 [==============================] - 8s 10ms/step - loss: 1.1900e-09 - acc: 1.0000 - val_loss: 2.8826 - val_acc: 0.7901\n",
            "Epoch 93/100\n",
            "782/782 [==============================] - 8s 10ms/step - loss: 1.1639e-09 - acc: 1.0000 - val_loss: 2.8816 - val_acc: 0.7902\n",
            "Epoch 94/100\n",
            "782/782 [==============================] - 8s 10ms/step - loss: 1.1483e-09 - acc: 1.0000 - val_loss: 2.8727 - val_acc: 0.7908\n",
            "Epoch 95/100\n",
            "782/782 [==============================] - 8s 10ms/step - loss: 1.1960e-09 - acc: 1.0000 - val_loss: 2.8754 - val_acc: 0.7907\n",
            "Epoch 96/100\n",
            "782/782 [==============================] - 8s 10ms/step - loss: 1.1537e-09 - acc: 1.0000 - val_loss: 2.8734 - val_acc: 0.7909\n",
            "Epoch 97/100\n",
            "782/782 [==============================] - 8s 10ms/step - loss: 1.1613e-09 - acc: 1.0000 - val_loss: 2.8835 - val_acc: 0.7902\n",
            "Epoch 98/100\n",
            "782/782 [==============================] - 8s 10ms/step - loss: 1.2404e-09 - acc: 1.0000 - val_loss: 2.8880 - val_acc: 0.7901\n",
            "Epoch 99/100\n",
            "782/782 [==============================] - 8s 10ms/step - loss: 1.1583e-09 - acc: 1.0000 - val_loss: 2.8802 - val_acc: 0.7908\n",
            "Epoch 100/100\n",
            "782/782 [==============================] - 8s 10ms/step - loss: 1.1971e-09 - acc: 1.0000 - val_loss: 2.8777 - val_acc: 0.7908\n"
          ],
          "name": "stdout"
        },
        {
          "output_type": "execute_result",
          "data": {
            "text/plain": [
              "<tensorflow.python.keras.callbacks.History at 0x7fdabc7a3390>"
            ]
          },
          "metadata": {
            "tags": []
          },
          "execution_count": 39
        }
      ]
    },
    {
      "cell_type": "markdown",
      "metadata": {
        "id": "nIVhN6qruusn"
      },
      "source": [
        "**Lưu Model**"
      ]
    },
    {
      "cell_type": "code",
      "metadata": {
        "id": "3mImLONgzjbW",
        "colab": {
          "base_uri": "https://localhost:8080/"
        },
        "outputId": "39d22516-4b3f-47f1-938d-1648ccd19e5e"
      },
      "source": [
        "model.save(\"kl.h\")"
      ],
      "execution_count": null,
      "outputs": [
        {
          "output_type": "stream",
          "text": [
            "INFO:tensorflow:Assets written to: kl.h/assets\n"
          ],
          "name": "stdout"
        },
        {
          "output_type": "stream",
          "text": [
            "INFO:tensorflow:Assets written to: kl.h/assets\n"
          ],
          "name": "stderr"
        }
      ]
    },
    {
      "cell_type": "markdown",
      "metadata": {
        "id": "mXdewK28uyzf"
      },
      "source": [
        "**Load model**"
      ]
    },
    {
      "cell_type": "code",
      "metadata": {
        "id": "D4IWJ4YezZ94"
      },
      "source": [
        "import tensorflow as tf\n",
        "model1=tf.keras.models.load_model(\"/content/drive/MyDrive/đồ án pthon/kien.h\")"
      ],
      "execution_count": null,
      "outputs": []
    },
    {
      "cell_type": "code",
      "metadata": {
        "id": "gYhfUkxs9bQ3"
      },
      "source": [
        "classe=model1.predict(test_x)\n",
        "for i in range(25000):\n",
        "  if classe[i] >0.5:\n",
        "    classe[i]=1\n",
        "  else:\n",
        "    classe[i]=0"
      ],
      "execution_count": null,
      "outputs": []
    },
    {
      "cell_type": "markdown",
      "metadata": {
        "id": "X9bTaw7Xu3b_"
      },
      "source": [
        "**Độ đo với CNN**"
      ]
    },
    {
      "cell_type": "code",
      "metadata": {
        "colab": {
          "base_uri": "https://localhost:8080/"
        },
        "id": "CSJmqGETAyJJ",
        "outputId": "f4bd9138-ce4a-4317-daab-370ff0bf3081"
      },
      "source": [
        "print('Precision', precision_score(test_y,classe, average = 'macro'))\n",
        "print('Recall', recall_score(test_y, classe, average = 'macro'))\n",
        "print('F1', f1_score(test_y, classe, average = 'macro'))\n",
        "print('Accuracy', accuracy_score(test_y, classe))"
      ],
      "execution_count": null,
      "outputs": [
        {
          "output_type": "stream",
          "text": [
            "Precision 0.7914655331281112\n",
            "Recall 0.7907599999999999\n",
            "F1 0.7906332996476148\n",
            "Accuracy 0.79076\n"
          ],
          "name": "stdout"
        }
      ]
    },
    {
      "cell_type": "markdown",
      "metadata": {
        "id": "zBzz5C0ku8lO"
      },
      "source": [
        "**Confusion_matrix vs CNN**"
      ]
    },
    {
      "cell_type": "code",
      "metadata": {
        "colab": {
          "base_uri": "https://localhost:8080/",
          "height": 515
        },
        "id": "vI0HbunOEhVP",
        "outputId": "03957781-ff68-4d89-d234-c1b31a99b828"
      },
      "source": [
        "labels = [\"0\",\"1\"]\n",
        "report = classification_report(test_y,classe, target_names = labels)\n",
        "print(report)\n",
        "cm=confusion_matrix(test_y,classe)\n",
        "import itertools\n",
        "import numpy as np\n",
        "import matplotlib.pyplot as plt\n",
        "\n",
        "def plot_confusion_matrix(cm, classes, normalize=False, title='Confusion matrix', cmap=plt.cm.Blues):\n",
        "    if normalize:\n",
        "        cm = cm.astype('float') / cm.sum(axis=1)[:, np.newaxis]\n",
        "        print(\"Normalized confusion matrix\")\n",
        "    else:\n",
        "        print('Confusion matrix, without normalization')\n",
        "\n",
        "    print(cm)\n",
        "    plt.imshow(cm, interpolation='nearest', cmap=cmap)\n",
        "    plt.title(title)\n",
        "    plt.colorbar()\n",
        "    tick_marks = np.arange(len(classes))\n",
        "    plt.xticks(tick_marks, classes, rotation=45)\n",
        "    plt.yticks(tick_marks, classes)\n",
        "\n",
        "    fmt = '.2f' if normalize else 'd'\n",
        "    thresh = cm.max() / 2.\n",
        "    for i, j in itertools.product(range(cm.shape[0]), range(cm.shape[1])):\n",
        "        plt.text(j, i, format(cm[i, j], fmt), horizontalalignment=\"center\", color=\"white\" if cm[i, j] > thresh else \"black\")\n",
        "\n",
        "    plt.tight_layout()\n",
        "    plt.ylabel('True label')\n",
        "    plt.xlabel('Predicted label')\n",
        "plot_confusion_matrix(cm,labels)\n"
      ],
      "execution_count": null,
      "outputs": [
        {
          "output_type": "stream",
          "text": [
            "              precision    recall  f1-score   support\n",
            "\n",
            "           0       0.78      0.82      0.80     12500\n",
            "           1       0.81      0.77      0.79     12500\n",
            "\n",
            "    accuracy                           0.79     25000\n",
            "   macro avg       0.79      0.79      0.79     25000\n",
            "weighted avg       0.79      0.79      0.79     25000\n",
            "\n",
            "Confusion matrix, without normalization\n",
            "[[10192  2308]\n",
            " [ 2923  9577]]\n"
          ],
          "name": "stdout"
        },
        {
          "output_type": "display_data",
          "data": {
            "image/png": "[encoded data removed]",
            "text/plain": [
              "<Figure size 432x288 with 2 Axes>"
            ]
          },
          "metadata": {
            "tags": [],
            "needs_background": "light"
          }
        }
      ]
    },
    {
      "cell_type": "code",
      "metadata": {
        "colab": {
          "base_uri": "https://localhost:8080/"
        },
        "id": "MBL02Ckvz59m",
        "outputId": "83a32e90-609d-47b1-c515-b2a563a69a58"
      },
      "source": [
        "cd/content/drive/MyDrive/đồ án pthon"
      ],
      "execution_count": null,
      "outputs": [
        {
          "output_type": "stream",
          "text": [
            "/content/drive/MyDrive/đồ án pthon\n"
          ],
          "name": "stdout"
        }
      ]
    },
    {
      "cell_type": "code",
      "metadata": {
        "id": "ek5ZddAI3rsJ"
      },
      "source": [
        "e=model1.layers[0]\n"
      ],
      "execution_count": null,
      "outputs": []
    },
    {
      "cell_type": "code",
      "metadata": {
        "id": "afQsIOlz34sM"
      },
      "source": [
        "weights=e.get_weights()[0]"
      ],
      "execution_count": null,
      "outputs": []
    },
    {
      "cell_type": "code",
      "metadata": {
        "id": "soMOSv5Y0tLZ"
      },
      "source": [
        "import io\n",
        "out_v=io.open('vecs.tsv','w',encoding='utf-8')\n",
        "out_m=io.open('meta.tsv','w',encoding='utf-8')\n",
        "for idx in range(1,10000):\n",
        "  word=tokenizer.index_word[idx]\n",
        "  vector=weights[idx]\n",
        "  out_m.write(word+\"\\n\")\n",
        "  out_v.write('\\t'.join(str(x) for x in vector)+\"\\n\")\n",
        "out_m.close()\n",
        "out_v.close()"
      ],
      "execution_count": null,
      "outputs": []
    },
    {
      "cell_type": "markdown",
      "metadata": {
        "id": "C5NuzlBfvFLy"
      },
      "source": [
        "**Độ đo với GaussianNB**"
      ]
    },
    {
      "cell_type": "code",
      "metadata": {
        "colab": {
          "base_uri": "https://localhost:8080/"
        },
        "id": "WyYOs6_N4xPS",
        "outputId": "881cf948-5c45-4bcc-9354-f7b8663d6173"
      },
      "source": [
        "from sklearn.metrics import  f1_score, recall_score, precision_score\n",
        "from sklearn.metrics import accuracy_score\n",
        "from sklearn.metrics import plot_confusion_matrix\n",
        "from sklearn.metrics import confusion_matrix\n",
        "from sklearn.metrics import ConfusionMatrixDisplay\n",
        "from sklearn.metrics import classification_report\n",
        "from matplotlib import pyplot as plt\n",
        "import matplotlib.pyplot as plt\n",
        "from sklearn.naive_bayes import GaussianNB\n",
        "Gaussian = GaussianNB()\n",
        "Gaussian.fit(train_x, train_y)\n",
        "print('Precision', precision_score(test_y, Gaussian.predict(test_x), average = 'macro'))\n",
        "print('Recall', recall_score(test_y, Gaussian.predict(test_x), average = 'macro'))\n",
        "print('F1', f1_score(test_y, Gaussian.predict(test_x), average = 'macro'))\n",
        "print('Accuracy', accuracy_score(test_y, Gaussian.predict(test_x)))\n"
      ],
      "execution_count": null,
      "outputs": [
        {
          "output_type": "stream",
          "text": [
            "Precision 0.512116185859925\n",
            "Recall 0.51052\n",
            "F1 0.49384995306317614\n",
            "Accuracy 0.51052\n"
          ],
          "name": "stdout"
        }
      ]
    },
    {
      "cell_type": "code",
      "metadata": {
        "colab": {
          "base_uri": "https://localhost:8080/"
        },
        "id": "ezRPb6eCDV8I",
        "outputId": "2f7dba18-476c-4a32-c8e3-00da10c10140"
      },
      "source": [
        "test_y"
      ],
      "execution_count": null,
      "outputs": [
        {
          "output_type": "execute_result",
          "data": {
            "text/plain": [
              "array([1, 1, 0, ..., 0, 1, 1])"
            ]
          },
          "metadata": {
            "tags": []
          },
          "execution_count": 67
        }
      ]
    },
    {
      "cell_type": "code",
      "metadata": {
        "colab": {
          "base_uri": "https://localhost:8080/"
        },
        "id": "Q1M5hSa2DY3w",
        "outputId": "fe3b2941-831f-42af-e6ca-c989996d8a2d"
      },
      "source": [
        "Gaussian.predict(test_x)"
      ],
      "execution_count": null,
      "outputs": [
        {
          "output_type": "execute_result",
          "data": {
            "text/plain": [
              "array([0, 1, 1, ..., 0, 0, 1])"
            ]
          },
          "metadata": {
            "tags": []
          },
          "execution_count": 68
        }
      ]
    },
    {
      "cell_type": "markdown",
      "metadata": {
        "id": "x1TUQftRvM--"
      },
      "source": [
        "**Confusion_matrix vs GaussianNB**"
      ]
    },
    {
      "cell_type": "code",
      "metadata": {
        "colab": {
          "base_uri": "https://localhost:8080/",
          "height": 744
        },
        "id": "j2a8qwhH5AyJ",
        "outputId": "0769103a-6a05-4997-dc56-9f6db984ccab"
      },
      "source": [
        "labels = [\"0\",\"1\"]\n",
        "report = classification_report(test_y,Gaussian.predict(test_x), target_names = labels)\n",
        "print(report)\n",
        "Title = \"MultinomialNB\"\n",
        "fig, ax = plt.subplots(figsize=(10,10))\n",
        "disp = plot_confusion_matrix(Gaussian, test_x,test_y, cmap = plt.cm.Blues, ax = ax)\n",
        "disp.ax_.set_title(Title)\n",
        "ax.set_xticklabels(labels)\n",
        "ax.set_yticklabels(labels)"
      ],
      "execution_count": null,
      "outputs": [
        {
          "output_type": "stream",
          "text": [
            "              precision    recall  f1-score   support\n",
            "\n",
            "           0       0.50      0.66      0.57     12500\n",
            "           1       0.50      0.34      0.41     12500\n",
            "\n",
            "    accuracy                           0.50     25000\n",
            "   macro avg       0.50      0.50      0.49     25000\n",
            "weighted avg       0.50      0.50      0.49     25000\n",
            "\n"
          ],
          "name": "stdout"
        },
        {
          "output_type": "execute_result",
          "data": {
            "text/plain": [
              "[Text(0, 0, '0'), Text(0, 0, '1')]"
            ]
          },
          "metadata": {
            "tags": []
          },
          "execution_count": 71
        },
        {
          "output_type": "display_data",
          "data": {
            "image/png": "[encoded data removed]",
            "text/plain": [
              "<Figure size 720x720 with 2 Axes>"
            ]
          },
          "metadata": {
            "tags": [],
            "needs_background": "light"
          }
        }
      ]
    },
    {
      "cell_type": "code",
      "metadata": {
        "id": "tqWTtGXk58ZM"
      },
      "source": [
        "from sklearn.metrics import plot_confusion_matrix\n",
        "from sklearn.metrics import confusion_matrix\n",
        "from sklearn.metrics import ConfusionMatrixDisplay\n",
        "from sklearn.metrics import classification_report\n",
        "from matplotlib import pyplot as plt\n",
        "import matplotlib.pyplot as plt\n",
        "from sklearn.metrics import accuracy_score, f1_score, recall_score, precision_score"
      ],
      "execution_count": null,
      "outputs": []
    },
    {
      "cell_type": "code",
      "metadata": {
        "id": "Wv3r3TmE6tAS"
      },
      "source": [
        "y=model.predict(test_x)"
      ],
      "execution_count": null,
      "outputs": []
    },
    {
      "cell_type": "markdown",
      "metadata": {
        "id": "6Lw_EAlxt0_8"
      },
      "source": [
        "**Kiểm tra một vài câu xem nhãn của câu đó**"
      ]
    },
    {
      "cell_type": "code",
      "metadata": {
        "id": "aik_jkptwRDB",
        "colab": {
          "base_uri": "https://localhost:8080/"
        },
        "outputId": "00d7325b-9880-4e3b-8bb6-5364cf50aba9"
      },
      "source": [
        "from tensorflow.keras.preprocessing.text import Tokenizer\n",
        "from tensorflow.keras.preprocessing.sequence import pad_sequences\n",
        "test=[\" hate movie\"]\n",
        "test=tokenizer.texts_to_sequences(test)\n",
        "padd_test=pad_sequences(test,maxlen=140,truncating='post',padding='post')\n",
        "if model1.predict(padd_test) >0.5:\n",
        "  print(\"day la binh luan tich cuc\")\n",
        "if model1.predict(padd_test) <0.5:\n",
        "  print(\"day la binh luan tieu cuc\")\n"
      ],
      "execution_count": null,
      "outputs": [
        {
          "output_type": "stream",
          "text": [
            "day la binh luan tieu cuc\n"
          ],
          "name": "stdout"
        }
      ]
    },
    {
      "cell_type": "code",
      "metadata": {
        "colab": {
          "base_uri": "https://localhost:8080/"
        },
        "id": "EsIZi7ORTLLV",
        "outputId": "9c46b8a2-7506-4d25-aafb-d171e6ba80a8"
      },
      "source": [
        "model1.predict(padd_test)"
      ],
      "execution_count": null,
      "outputs": [
        {
          "output_type": "execute_result",
          "data": {
            "text/plain": [
              "array([[0.4203151]], dtype=float32)"
            ]
          },
          "metadata": {
            "tags": []
          },
          "execution_count": 36
        }
      ]
    },
    {
      "cell_type": "code",
      "metadata": {
        "colab": {
          "base_uri": "https://localhost:8080/"
        },
        "id": "vv76afrvRb1L",
        "outputId": "2fa19ab3-d3b2-4ee7-c3b0-e1e2a023be06"
      },
      "source": [
        ""
      ],
      "execution_count": null,
      "outputs": [
        {
          "output_type": "execute_result",
          "data": {
            "text/plain": [
              "[[11, 797, 12, 18]]"
            ]
          },
          "metadata": {
            "tags": []
          },
          "execution_count": 28
        }
      ]
    },
    {
      "cell_type": "code",
      "metadata": {
        "id": "jG1uISaPxBno"
      },
      "source": [
        "e=model1.layers[0]"
      ],
      "execution_count": null,
      "outputs": []
    },
    {
      "cell_type": "code",
      "metadata": {
        "id": "flekpT7JxFCW"
      },
      "source": [
        "weights=e.get_weights()[0]"
      ],
      "execution_count": null,
      "outputs": []
    },
    {
      "cell_type": "markdown",
      "metadata": {
        "id": "-1akoSUpxK9u"
      },
      "source": [
        "**Trích xuất embedding**"
      ]
    },
    {
      "cell_type": "code",
      "metadata": {
        "id": "vLdSMl7rxKOS"
      },
      "source": [
        "import io\n",
        "out_v=io.open('vecs.tsv','w',encoding='utf-8')\n",
        "out_m=io.open('meta.tsv','w',encoding='utf-8')\n",
        "for idx in range(1,10000):\n",
        "  word=tokenizer.index_word[idx]\n",
        "  vector=weights[idx]\n",
        "  out_m.write(word+\"\\n\")\n",
        "  out_v.write('\\t'.join(str(x) for x in vector)+\"\\n\")\n",
        "out_m.close()\n",
        "out_v.close()"
      ],
      "execution_count": null,
      "outputs": []
    }
  ]
}